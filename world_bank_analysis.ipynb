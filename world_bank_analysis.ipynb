{
  "nbformat": 4,
  "nbformat_minor": 0,
  "metadata": {
    "colab": {
      "name": "181225_proekt_vvnzp.ipynb",
      "provenance": [],
      "collapsed_sections": []
    },
    "kernelspec": {
      "name": "python3",
      "display_name": "Python 3"
    },
    "language_info": {
      "name": "python"
    }
  },
  "cells": [
    {
      "cell_type": "code",
      "execution_count": null,
      "metadata": {
        "colab": {
          "base_uri": "https://localhost:8080/"
        },
        "id": "32jYvOnP0eb4",
        "outputId": "447840ca-1543-4d78-f20c-41df44f1f428"
      },
      "outputs": [
        {
          "output_type": "stream",
          "name": "stdout",
          "text": [
            "Mounted at /content/drive\n"
          ]
        }
      ],
      "source": [
        "#add your code \n",
        "from google.colab import drive\n",
        "drive.mount('/content/drive')"
      ]
    },
    {
      "cell_type": "code",
      "source": [
        "import pandas as pd\n",
        "df = pd.read_csv('/content/2.12_Health_systems (1).csv')"
      ],
      "metadata": {
        "id": "mnXqjDBj0prF"
      },
      "execution_count": 1,
      "outputs": []
    },
    {
      "cell_type": "code",
      "source": [
        "df.head()"
      ],
      "metadata": {
        "colab": {
          "base_uri": "https://localhost:8080/",
          "height": 287
        },
        "id": "ILQ_R5tA1-2N",
        "outputId": "d3f03b4f-9f59-4ef7-9a24-ae9f5574321e"
      },
      "execution_count": 2,
      "outputs": [
        {
          "output_type": "execute_result",
          "data": {
            "text/plain": [
              "  Country_Region Province_State World_Bank_Name  Health_exp_pct_GDP_2016  \\\n",
              "0    Afghanistan            NaN     Afghanistan                     10.2   \n",
              "1        Albania            NaN         Albania                      6.7   \n",
              "2        Algeria            NaN         Algeria                      6.6   \n",
              "3        Andorra            NaN         Andorra                     10.4   \n",
              "4         Angola            NaN          Angola                      2.9   \n",
              "\n",
              "   Health_exp_public_pct_2016  Health_exp_out_of_pocket_pct_2016  \\\n",
              "0                         5.1                               77.4   \n",
              "1                        41.4                               58.0   \n",
              "2                        67.7                               30.9   \n",
              "3                        49.1                               41.7   \n",
              "4                        44.1                               35.2   \n",
              "\n",
              "   Health_exp_per_capita_USD_2016  per_capita_exp_PPP_2016  \\\n",
              "0                            57.2                    162.8   \n",
              "1                           271.5                    759.7   \n",
              "2                           260.4                    998.2   \n",
              "3                          3834.7                   4978.7   \n",
              "4                            95.2                    185.8   \n",
              "\n",
              "   External_health_exp_pct_2016  Physicians_per_1000_2009-18  \\\n",
              "0                          17.5                          0.3   \n",
              "1                           0.7                          1.2   \n",
              "2                           0.0                          1.8   \n",
              "3                           NaN                          3.3   \n",
              "4                           3.6                          0.2   \n",
              "\n",
              "   Nurse_midwife_per_1000_2009-18  Specialist_surgical_per_1000_2008-18  \\\n",
              "0                             0.3                                   0.0   \n",
              "1                             3.6                                  11.6   \n",
              "2                             2.2                                  12.1   \n",
              "3                             4.0                                  83.1   \n",
              "4                             1.3                                   NaN   \n",
              "\n",
              "   Completeness_of_birth_reg_2009-18  Completeness_of_death_reg_2008-16  \n",
              "0                               42.3                                NaN  \n",
              "1                               98.4                               53.0  \n",
              "2                              100.0                                NaN  \n",
              "3                              100.0                               80.0  \n",
              "4                               25.0                                NaN  "
            ],
            "text/html": [
              "\n",
              "  <div id=\"df-1077fefd-7943-4d85-8be0-3a5e1348a369\">\n",
              "    <div class=\"colab-df-container\">\n",
              "      <div>\n",
              "<style scoped>\n",
              "    .dataframe tbody tr th:only-of-type {\n",
              "        vertical-align: middle;\n",
              "    }\n",
              "\n",
              "    .dataframe tbody tr th {\n",
              "        vertical-align: top;\n",
              "    }\n",
              "\n",
              "    .dataframe thead th {\n",
              "        text-align: right;\n",
              "    }\n",
              "</style>\n",
              "<table border=\"1\" class=\"dataframe\">\n",
              "  <thead>\n",
              "    <tr style=\"text-align: right;\">\n",
              "      <th></th>\n",
              "      <th>Country_Region</th>\n",
              "      <th>Province_State</th>\n",
              "      <th>World_Bank_Name</th>\n",
              "      <th>Health_exp_pct_GDP_2016</th>\n",
              "      <th>Health_exp_public_pct_2016</th>\n",
              "      <th>Health_exp_out_of_pocket_pct_2016</th>\n",
              "      <th>Health_exp_per_capita_USD_2016</th>\n",
              "      <th>per_capita_exp_PPP_2016</th>\n",
              "      <th>External_health_exp_pct_2016</th>\n",
              "      <th>Physicians_per_1000_2009-18</th>\n",
              "      <th>Nurse_midwife_per_1000_2009-18</th>\n",
              "      <th>Specialist_surgical_per_1000_2008-18</th>\n",
              "      <th>Completeness_of_birth_reg_2009-18</th>\n",
              "      <th>Completeness_of_death_reg_2008-16</th>\n",
              "    </tr>\n",
              "  </thead>\n",
              "  <tbody>\n",
              "    <tr>\n",
              "      <th>0</th>\n",
              "      <td>Afghanistan</td>\n",
              "      <td>NaN</td>\n",
              "      <td>Afghanistan</td>\n",
              "      <td>10.2</td>\n",
              "      <td>5.1</td>\n",
              "      <td>77.4</td>\n",
              "      <td>57.2</td>\n",
              "      <td>162.8</td>\n",
              "      <td>17.5</td>\n",
              "      <td>0.3</td>\n",
              "      <td>0.3</td>\n",
              "      <td>0.0</td>\n",
              "      <td>42.3</td>\n",
              "      <td>NaN</td>\n",
              "    </tr>\n",
              "    <tr>\n",
              "      <th>1</th>\n",
              "      <td>Albania</td>\n",
              "      <td>NaN</td>\n",
              "      <td>Albania</td>\n",
              "      <td>6.7</td>\n",
              "      <td>41.4</td>\n",
              "      <td>58.0</td>\n",
              "      <td>271.5</td>\n",
              "      <td>759.7</td>\n",
              "      <td>0.7</td>\n",
              "      <td>1.2</td>\n",
              "      <td>3.6</td>\n",
              "      <td>11.6</td>\n",
              "      <td>98.4</td>\n",
              "      <td>53.0</td>\n",
              "    </tr>\n",
              "    <tr>\n",
              "      <th>2</th>\n",
              "      <td>Algeria</td>\n",
              "      <td>NaN</td>\n",
              "      <td>Algeria</td>\n",
              "      <td>6.6</td>\n",
              "      <td>67.7</td>\n",
              "      <td>30.9</td>\n",
              "      <td>260.4</td>\n",
              "      <td>998.2</td>\n",
              "      <td>0.0</td>\n",
              "      <td>1.8</td>\n",
              "      <td>2.2</td>\n",
              "      <td>12.1</td>\n",
              "      <td>100.0</td>\n",
              "      <td>NaN</td>\n",
              "    </tr>\n",
              "    <tr>\n",
              "      <th>3</th>\n",
              "      <td>Andorra</td>\n",
              "      <td>NaN</td>\n",
              "      <td>Andorra</td>\n",
              "      <td>10.4</td>\n",
              "      <td>49.1</td>\n",
              "      <td>41.7</td>\n",
              "      <td>3834.7</td>\n",
              "      <td>4978.7</td>\n",
              "      <td>NaN</td>\n",
              "      <td>3.3</td>\n",
              "      <td>4.0</td>\n",
              "      <td>83.1</td>\n",
              "      <td>100.0</td>\n",
              "      <td>80.0</td>\n",
              "    </tr>\n",
              "    <tr>\n",
              "      <th>4</th>\n",
              "      <td>Angola</td>\n",
              "      <td>NaN</td>\n",
              "      <td>Angola</td>\n",
              "      <td>2.9</td>\n",
              "      <td>44.1</td>\n",
              "      <td>35.2</td>\n",
              "      <td>95.2</td>\n",
              "      <td>185.8</td>\n",
              "      <td>3.6</td>\n",
              "      <td>0.2</td>\n",
              "      <td>1.3</td>\n",
              "      <td>NaN</td>\n",
              "      <td>25.0</td>\n",
              "      <td>NaN</td>\n",
              "    </tr>\n",
              "  </tbody>\n",
              "</table>\n",
              "</div>\n",
              "      <button class=\"colab-df-convert\" onclick=\"convertToInteractive('df-1077fefd-7943-4d85-8be0-3a5e1348a369')\"\n",
              "              title=\"Convert this dataframe to an interactive table.\"\n",
              "              style=\"display:none;\">\n",
              "        \n",
              "  <svg xmlns=\"http://www.w3.org/2000/svg\" height=\"24px\"viewBox=\"0 0 24 24\"\n",
              "       width=\"24px\">\n",
              "    <path d=\"M0 0h24v24H0V0z\" fill=\"none\"/>\n",
              "    <path d=\"M18.56 5.44l.94 2.06.94-2.06 2.06-.94-2.06-.94-.94-2.06-.94 2.06-2.06.94zm-11 1L8.5 8.5l.94-2.06 2.06-.94-2.06-.94L8.5 2.5l-.94 2.06-2.06.94zm10 10l.94 2.06.94-2.06 2.06-.94-2.06-.94-.94-2.06-.94 2.06-2.06.94z\"/><path d=\"M17.41 7.96l-1.37-1.37c-.4-.4-.92-.59-1.43-.59-.52 0-1.04.2-1.43.59L10.3 9.45l-7.72 7.72c-.78.78-.78 2.05 0 2.83L4 21.41c.39.39.9.59 1.41.59.51 0 1.02-.2 1.41-.59l7.78-7.78 2.81-2.81c.8-.78.8-2.07 0-2.86zM5.41 20L4 18.59l7.72-7.72 1.47 1.35L5.41 20z\"/>\n",
              "  </svg>\n",
              "      </button>\n",
              "      \n",
              "  <style>\n",
              "    .colab-df-container {\n",
              "      display:flex;\n",
              "      flex-wrap:wrap;\n",
              "      gap: 12px;\n",
              "    }\n",
              "\n",
              "    .colab-df-convert {\n",
              "      background-color: #E8F0FE;\n",
              "      border: none;\n",
              "      border-radius: 50%;\n",
              "      cursor: pointer;\n",
              "      display: none;\n",
              "      fill: #1967D2;\n",
              "      height: 32px;\n",
              "      padding: 0 0 0 0;\n",
              "      width: 32px;\n",
              "    }\n",
              "\n",
              "    .colab-df-convert:hover {\n",
              "      background-color: #E2EBFA;\n",
              "      box-shadow: 0px 1px 2px rgba(60, 64, 67, 0.3), 0px 1px 3px 1px rgba(60, 64, 67, 0.15);\n",
              "      fill: #174EA6;\n",
              "    }\n",
              "\n",
              "    [theme=dark] .colab-df-convert {\n",
              "      background-color: #3B4455;\n",
              "      fill: #D2E3FC;\n",
              "    }\n",
              "\n",
              "    [theme=dark] .colab-df-convert:hover {\n",
              "      background-color: #434B5C;\n",
              "      box-shadow: 0px 1px 3px 1px rgba(0, 0, 0, 0.15);\n",
              "      filter: drop-shadow(0px 1px 2px rgba(0, 0, 0, 0.3));\n",
              "      fill: #FFFFFF;\n",
              "    }\n",
              "  </style>\n",
              "\n",
              "      <script>\n",
              "        const buttonEl =\n",
              "          document.querySelector('#df-1077fefd-7943-4d85-8be0-3a5e1348a369 button.colab-df-convert');\n",
              "        buttonEl.style.display =\n",
              "          google.colab.kernel.accessAllowed ? 'block' : 'none';\n",
              "\n",
              "        async function convertToInteractive(key) {\n",
              "          const element = document.querySelector('#df-1077fefd-7943-4d85-8be0-3a5e1348a369');\n",
              "          const dataTable =\n",
              "            await google.colab.kernel.invokeFunction('convertToInteractive',\n",
              "                                                     [key], {});\n",
              "          if (!dataTable) return;\n",
              "\n",
              "          const docLinkHtml = 'Like what you see? Visit the ' +\n",
              "            '<a target=\"_blank\" href=https://colab.research.google.com/notebooks/data_table.ipynb>data table notebook</a>'\n",
              "            + ' to learn more about interactive tables.';\n",
              "          element.innerHTML = '';\n",
              "          dataTable['output_type'] = 'display_data';\n",
              "          await google.colab.output.renderOutput(dataTable, element);\n",
              "          const docLink = document.createElement('div');\n",
              "          docLink.innerHTML = docLinkHtml;\n",
              "          element.appendChild(docLink);\n",
              "        }\n",
              "      </script>\n",
              "    </div>\n",
              "  </div>\n",
              "  "
            ]
          },
          "metadata": {},
          "execution_count": 2
        }
      ]
    },
    {
      "cell_type": "code",
      "source": [
        "# Rename the columns\n",
        "df2 = df.rename(columns = {'Completeness_of_birth_reg_2009-18': 'Birth_2009-18'\n",
        "                          ,'Completeness_of_death_reg_2008-16': 'Death_2008-16', \n",
        "                           'World_Bank_Name': 'Bank',\n",
        "                           'Province_State' : 'Province',\n",
        "                           'Country_Region': 'Region'}, \n",
        "                inplace = False)\n"
      ],
      "metadata": {
        "id": "Wb_YldX62Xee"
      },
      "execution_count": 4,
      "outputs": []
    },
    {
      "cell_type": "code",
      "source": [
        "df2.head()"
      ],
      "metadata": {
        "colab": {
          "base_uri": "https://localhost:8080/",
          "height": 287
        },
        "id": "9Rv0BjVT3iJh",
        "outputId": "b2385920-e7b3-4099-d753-11cc90ba9e6b"
      },
      "execution_count": 5,
      "outputs": [
        {
          "output_type": "execute_result",
          "data": {
            "text/plain": [
              "        Region Province         Bank  Health_exp_pct_GDP_2016  \\\n",
              "0  Afghanistan      NaN  Afghanistan                     10.2   \n",
              "1      Albania      NaN      Albania                      6.7   \n",
              "2      Algeria      NaN      Algeria                      6.6   \n",
              "3      Andorra      NaN      Andorra                     10.4   \n",
              "4       Angola      NaN       Angola                      2.9   \n",
              "\n",
              "   Health_exp_public_pct_2016  Health_exp_out_of_pocket_pct_2016  \\\n",
              "0                         5.1                               77.4   \n",
              "1                        41.4                               58.0   \n",
              "2                        67.7                               30.9   \n",
              "3                        49.1                               41.7   \n",
              "4                        44.1                               35.2   \n",
              "\n",
              "   Health_exp_per_capita_USD_2016  per_capita_exp_PPP_2016  \\\n",
              "0                            57.2                    162.8   \n",
              "1                           271.5                    759.7   \n",
              "2                           260.4                    998.2   \n",
              "3                          3834.7                   4978.7   \n",
              "4                            95.2                    185.8   \n",
              "\n",
              "   External_health_exp_pct_2016  Physicians_per_1000_2009-18  \\\n",
              "0                          17.5                          0.3   \n",
              "1                           0.7                          1.2   \n",
              "2                           0.0                          1.8   \n",
              "3                           NaN                          3.3   \n",
              "4                           3.6                          0.2   \n",
              "\n",
              "   Nurse_midwife_per_1000_2009-18  Specialist_surgical_per_1000_2008-18  \\\n",
              "0                             0.3                                   0.0   \n",
              "1                             3.6                                  11.6   \n",
              "2                             2.2                                  12.1   \n",
              "3                             4.0                                  83.1   \n",
              "4                             1.3                                   NaN   \n",
              "\n",
              "   Birth_2009-18  Death_2008-16  \n",
              "0           42.3            NaN  \n",
              "1           98.4           53.0  \n",
              "2          100.0            NaN  \n",
              "3          100.0           80.0  \n",
              "4           25.0            NaN  "
            ],
            "text/html": [
              "\n",
              "  <div id=\"df-0e096281-cc41-4182-93be-1dc235665554\">\n",
              "    <div class=\"colab-df-container\">\n",
              "      <div>\n",
              "<style scoped>\n",
              "    .dataframe tbody tr th:only-of-type {\n",
              "        vertical-align: middle;\n",
              "    }\n",
              "\n",
              "    .dataframe tbody tr th {\n",
              "        vertical-align: top;\n",
              "    }\n",
              "\n",
              "    .dataframe thead th {\n",
              "        text-align: right;\n",
              "    }\n",
              "</style>\n",
              "<table border=\"1\" class=\"dataframe\">\n",
              "  <thead>\n",
              "    <tr style=\"text-align: right;\">\n",
              "      <th></th>\n",
              "      <th>Region</th>\n",
              "      <th>Province</th>\n",
              "      <th>Bank</th>\n",
              "      <th>Health_exp_pct_GDP_2016</th>\n",
              "      <th>Health_exp_public_pct_2016</th>\n",
              "      <th>Health_exp_out_of_pocket_pct_2016</th>\n",
              "      <th>Health_exp_per_capita_USD_2016</th>\n",
              "      <th>per_capita_exp_PPP_2016</th>\n",
              "      <th>External_health_exp_pct_2016</th>\n",
              "      <th>Physicians_per_1000_2009-18</th>\n",
              "      <th>Nurse_midwife_per_1000_2009-18</th>\n",
              "      <th>Specialist_surgical_per_1000_2008-18</th>\n",
              "      <th>Birth_2009-18</th>\n",
              "      <th>Death_2008-16</th>\n",
              "    </tr>\n",
              "  </thead>\n",
              "  <tbody>\n",
              "    <tr>\n",
              "      <th>0</th>\n",
              "      <td>Afghanistan</td>\n",
              "      <td>NaN</td>\n",
              "      <td>Afghanistan</td>\n",
              "      <td>10.2</td>\n",
              "      <td>5.1</td>\n",
              "      <td>77.4</td>\n",
              "      <td>57.2</td>\n",
              "      <td>162.8</td>\n",
              "      <td>17.5</td>\n",
              "      <td>0.3</td>\n",
              "      <td>0.3</td>\n",
              "      <td>0.0</td>\n",
              "      <td>42.3</td>\n",
              "      <td>NaN</td>\n",
              "    </tr>\n",
              "    <tr>\n",
              "      <th>1</th>\n",
              "      <td>Albania</td>\n",
              "      <td>NaN</td>\n",
              "      <td>Albania</td>\n",
              "      <td>6.7</td>\n",
              "      <td>41.4</td>\n",
              "      <td>58.0</td>\n",
              "      <td>271.5</td>\n",
              "      <td>759.7</td>\n",
              "      <td>0.7</td>\n",
              "      <td>1.2</td>\n",
              "      <td>3.6</td>\n",
              "      <td>11.6</td>\n",
              "      <td>98.4</td>\n",
              "      <td>53.0</td>\n",
              "    </tr>\n",
              "    <tr>\n",
              "      <th>2</th>\n",
              "      <td>Algeria</td>\n",
              "      <td>NaN</td>\n",
              "      <td>Algeria</td>\n",
              "      <td>6.6</td>\n",
              "      <td>67.7</td>\n",
              "      <td>30.9</td>\n",
              "      <td>260.4</td>\n",
              "      <td>998.2</td>\n",
              "      <td>0.0</td>\n",
              "      <td>1.8</td>\n",
              "      <td>2.2</td>\n",
              "      <td>12.1</td>\n",
              "      <td>100.0</td>\n",
              "      <td>NaN</td>\n",
              "    </tr>\n",
              "    <tr>\n",
              "      <th>3</th>\n",
              "      <td>Andorra</td>\n",
              "      <td>NaN</td>\n",
              "      <td>Andorra</td>\n",
              "      <td>10.4</td>\n",
              "      <td>49.1</td>\n",
              "      <td>41.7</td>\n",
              "      <td>3834.7</td>\n",
              "      <td>4978.7</td>\n",
              "      <td>NaN</td>\n",
              "      <td>3.3</td>\n",
              "      <td>4.0</td>\n",
              "      <td>83.1</td>\n",
              "      <td>100.0</td>\n",
              "      <td>80.0</td>\n",
              "    </tr>\n",
              "    <tr>\n",
              "      <th>4</th>\n",
              "      <td>Angola</td>\n",
              "      <td>NaN</td>\n",
              "      <td>Angola</td>\n",
              "      <td>2.9</td>\n",
              "      <td>44.1</td>\n",
              "      <td>35.2</td>\n",
              "      <td>95.2</td>\n",
              "      <td>185.8</td>\n",
              "      <td>3.6</td>\n",
              "      <td>0.2</td>\n",
              "      <td>1.3</td>\n",
              "      <td>NaN</td>\n",
              "      <td>25.0</td>\n",
              "      <td>NaN</td>\n",
              "    </tr>\n",
              "  </tbody>\n",
              "</table>\n",
              "</div>\n",
              "      <button class=\"colab-df-convert\" onclick=\"convertToInteractive('df-0e096281-cc41-4182-93be-1dc235665554')\"\n",
              "              title=\"Convert this dataframe to an interactive table.\"\n",
              "              style=\"display:none;\">\n",
              "        \n",
              "  <svg xmlns=\"http://www.w3.org/2000/svg\" height=\"24px\"viewBox=\"0 0 24 24\"\n",
              "       width=\"24px\">\n",
              "    <path d=\"M0 0h24v24H0V0z\" fill=\"none\"/>\n",
              "    <path d=\"M18.56 5.44l.94 2.06.94-2.06 2.06-.94-2.06-.94-.94-2.06-.94 2.06-2.06.94zm-11 1L8.5 8.5l.94-2.06 2.06-.94-2.06-.94L8.5 2.5l-.94 2.06-2.06.94zm10 10l.94 2.06.94-2.06 2.06-.94-2.06-.94-.94-2.06-.94 2.06-2.06.94z\"/><path d=\"M17.41 7.96l-1.37-1.37c-.4-.4-.92-.59-1.43-.59-.52 0-1.04.2-1.43.59L10.3 9.45l-7.72 7.72c-.78.78-.78 2.05 0 2.83L4 21.41c.39.39.9.59 1.41.59.51 0 1.02-.2 1.41-.59l7.78-7.78 2.81-2.81c.8-.78.8-2.07 0-2.86zM5.41 20L4 18.59l7.72-7.72 1.47 1.35L5.41 20z\"/>\n",
              "  </svg>\n",
              "      </button>\n",
              "      \n",
              "  <style>\n",
              "    .colab-df-container {\n",
              "      display:flex;\n",
              "      flex-wrap:wrap;\n",
              "      gap: 12px;\n",
              "    }\n",
              "\n",
              "    .colab-df-convert {\n",
              "      background-color: #E8F0FE;\n",
              "      border: none;\n",
              "      border-radius: 50%;\n",
              "      cursor: pointer;\n",
              "      display: none;\n",
              "      fill: #1967D2;\n",
              "      height: 32px;\n",
              "      padding: 0 0 0 0;\n",
              "      width: 32px;\n",
              "    }\n",
              "\n",
              "    .colab-df-convert:hover {\n",
              "      background-color: #E2EBFA;\n",
              "      box-shadow: 0px 1px 2px rgba(60, 64, 67, 0.3), 0px 1px 3px 1px rgba(60, 64, 67, 0.15);\n",
              "      fill: #174EA6;\n",
              "    }\n",
              "\n",
              "    [theme=dark] .colab-df-convert {\n",
              "      background-color: #3B4455;\n",
              "      fill: #D2E3FC;\n",
              "    }\n",
              "\n",
              "    [theme=dark] .colab-df-convert:hover {\n",
              "      background-color: #434B5C;\n",
              "      box-shadow: 0px 1px 3px 1px rgba(0, 0, 0, 0.15);\n",
              "      filter: drop-shadow(0px 1px 2px rgba(0, 0, 0, 0.3));\n",
              "      fill: #FFFFFF;\n",
              "    }\n",
              "  </style>\n",
              "\n",
              "      <script>\n",
              "        const buttonEl =\n",
              "          document.querySelector('#df-0e096281-cc41-4182-93be-1dc235665554 button.colab-df-convert');\n",
              "        buttonEl.style.display =\n",
              "          google.colab.kernel.accessAllowed ? 'block' : 'none';\n",
              "\n",
              "        async function convertToInteractive(key) {\n",
              "          const element = document.querySelector('#df-0e096281-cc41-4182-93be-1dc235665554');\n",
              "          const dataTable =\n",
              "            await google.colab.kernel.invokeFunction('convertToInteractive',\n",
              "                                                     [key], {});\n",
              "          if (!dataTable) return;\n",
              "\n",
              "          const docLinkHtml = 'Like what you see? Visit the ' +\n",
              "            '<a target=\"_blank\" href=https://colab.research.google.com/notebooks/data_table.ipynb>data table notebook</a>'\n",
              "            + ' to learn more about interactive tables.';\n",
              "          element.innerHTML = '';\n",
              "          dataTable['output_type'] = 'display_data';\n",
              "          await google.colab.output.renderOutput(dataTable, element);\n",
              "          const docLink = document.createElement('div');\n",
              "          docLink.innerHTML = docLinkHtml;\n",
              "          element.appendChild(docLink);\n",
              "        }\n",
              "      </script>\n",
              "    </div>\n",
              "  </div>\n",
              "  "
            ]
          },
          "metadata": {},
          "execution_count": 5
        }
      ]
    },
    {
      "cell_type": "code",
      "source": [
        "df2['Bank']"
      ],
      "metadata": {
        "colab": {
          "base_uri": "https://localhost:8080/"
        },
        "id": "iVqJegS1Jxcc",
        "outputId": "11bcec88-d1fc-408f-e5ac-d8565487223b"
      },
      "execution_count": 6,
      "outputs": [
        {
          "output_type": "execute_result",
          "data": {
            "text/plain": [
              "0                Afghanistan\n",
              "1                    Albania\n",
              "2                    Algeria\n",
              "3                    Andorra\n",
              "4                     Angola\n",
              "               ...          \n",
              "205    Virgin Islands (U.S.)\n",
              "206       West Bank and Gaza\n",
              "207              Yemen, Rep.\n",
              "208                   Zambia\n",
              "209                 Zimbabwe\n",
              "Name: Bank, Length: 210, dtype: object"
            ]
          },
          "metadata": {},
          "execution_count": 6
        }
      ]
    },
    {
      "cell_type": "code",
      "source": [
        "df2.shape"
      ],
      "metadata": {
        "colab": {
          "base_uri": "https://localhost:8080/"
        },
        "id": "tsG_u20-JYlL",
        "outputId": "9be62630-ad37-44c4-bc63-b5878e498001"
      },
      "execution_count": 7,
      "outputs": [
        {
          "output_type": "execute_result",
          "data": {
            "text/plain": [
              "(210, 14)"
            ]
          },
          "metadata": {},
          "execution_count": 7
        }
      ]
    },
    {
      "cell_type": "code",
      "source": [
        "df2.isnull().sum()"
      ],
      "metadata": {
        "colab": {
          "base_uri": "https://localhost:8080/"
        },
        "id": "OaVVaVSt3jE6",
        "outputId": "e20be7d1-e1d7-4b31-f9d1-00585c046342"
      },
      "execution_count": 8,
      "outputs": [
        {
          "output_type": "execute_result",
          "data": {
            "text/plain": [
              "Region                                   23\n",
              "Province                                196\n",
              "Bank                                      0\n",
              "Health_exp_pct_GDP_2016                  24\n",
              "Health_exp_public_pct_2016               24\n",
              "Health_exp_out_of_pocket_pct_2016        24\n",
              "Health_exp_per_capita_USD_2016           24\n",
              "per_capita_exp_PPP_2016                  24\n",
              "External_health_exp_pct_2016             43\n",
              "Physicians_per_1000_2009-18              21\n",
              "Nurse_midwife_per_1000_2009-18           21\n",
              "Specialist_surgical_per_1000_2008-18     35\n",
              "Birth_2009-18                            47\n",
              "Death_2008-16                           103\n",
              "dtype: int64"
            ]
          },
          "metadata": {},
          "execution_count": 8
        }
      ]
    },
    {
      "cell_type": "code",
      "source": [
        "#Prikazhi kolku falat vrednosti i istite da se pokazhat vo procenti\n",
        "missing_values_df2 = df2.isnull().sum()\n",
        "percentage_df2 = 100 * df2.isnull().sum() / len(df2)\n",
        "missing_values_table_df2 = pd.concat([missing_values_df2, percentage_df2], axis=1)\n",
        "missing_values_table_df2.columns = ['Num. of missing values','% of missing values']\n",
        "missing_values_table_df2"
      ],
      "metadata": {
        "colab": {
          "base_uri": "https://localhost:8080/",
          "height": 488
        },
        "id": "KkGKK-RW4_3X",
        "outputId": "0af13b18-9bb6-41b8-a70e-580805530d82"
      },
      "execution_count": 9,
      "outputs": [
        {
          "output_type": "execute_result",
          "data": {
            "text/plain": [
              "                                      Num. of missing values  \\\n",
              "Region                                                    23   \n",
              "Province                                                 196   \n",
              "Bank                                                       0   \n",
              "Health_exp_pct_GDP_2016                                   24   \n",
              "Health_exp_public_pct_2016                                24   \n",
              "Health_exp_out_of_pocket_pct_2016                         24   \n",
              "Health_exp_per_capita_USD_2016                            24   \n",
              "per_capita_exp_PPP_2016                                   24   \n",
              "External_health_exp_pct_2016                              43   \n",
              "Physicians_per_1000_2009-18                               21   \n",
              "Nurse_midwife_per_1000_2009-18                            21   \n",
              "Specialist_surgical_per_1000_2008-18                      35   \n",
              "Birth_2009-18                                             47   \n",
              "Death_2008-16                                            103   \n",
              "\n",
              "                                      % of missing values  \n",
              "Region                                          10.952381  \n",
              "Province                                        93.333333  \n",
              "Bank                                             0.000000  \n",
              "Health_exp_pct_GDP_2016                         11.428571  \n",
              "Health_exp_public_pct_2016                      11.428571  \n",
              "Health_exp_out_of_pocket_pct_2016               11.428571  \n",
              "Health_exp_per_capita_USD_2016                  11.428571  \n",
              "per_capita_exp_PPP_2016                         11.428571  \n",
              "External_health_exp_pct_2016                    20.476190  \n",
              "Physicians_per_1000_2009-18                     10.000000  \n",
              "Nurse_midwife_per_1000_2009-18                  10.000000  \n",
              "Specialist_surgical_per_1000_2008-18            16.666667  \n",
              "Birth_2009-18                                   22.380952  \n",
              "Death_2008-16                                   49.047619  "
            ],
            "text/html": [
              "\n",
              "  <div id=\"df-d4d05525-ca13-438a-94a0-34283ea989e7\">\n",
              "    <div class=\"colab-df-container\">\n",
              "      <div>\n",
              "<style scoped>\n",
              "    .dataframe tbody tr th:only-of-type {\n",
              "        vertical-align: middle;\n",
              "    }\n",
              "\n",
              "    .dataframe tbody tr th {\n",
              "        vertical-align: top;\n",
              "    }\n",
              "\n",
              "    .dataframe thead th {\n",
              "        text-align: right;\n",
              "    }\n",
              "</style>\n",
              "<table border=\"1\" class=\"dataframe\">\n",
              "  <thead>\n",
              "    <tr style=\"text-align: right;\">\n",
              "      <th></th>\n",
              "      <th>Num. of missing values</th>\n",
              "      <th>% of missing values</th>\n",
              "    </tr>\n",
              "  </thead>\n",
              "  <tbody>\n",
              "    <tr>\n",
              "      <th>Region</th>\n",
              "      <td>23</td>\n",
              "      <td>10.952381</td>\n",
              "    </tr>\n",
              "    <tr>\n",
              "      <th>Province</th>\n",
              "      <td>196</td>\n",
              "      <td>93.333333</td>\n",
              "    </tr>\n",
              "    <tr>\n",
              "      <th>Bank</th>\n",
              "      <td>0</td>\n",
              "      <td>0.000000</td>\n",
              "    </tr>\n",
              "    <tr>\n",
              "      <th>Health_exp_pct_GDP_2016</th>\n",
              "      <td>24</td>\n",
              "      <td>11.428571</td>\n",
              "    </tr>\n",
              "    <tr>\n",
              "      <th>Health_exp_public_pct_2016</th>\n",
              "      <td>24</td>\n",
              "      <td>11.428571</td>\n",
              "    </tr>\n",
              "    <tr>\n",
              "      <th>Health_exp_out_of_pocket_pct_2016</th>\n",
              "      <td>24</td>\n",
              "      <td>11.428571</td>\n",
              "    </tr>\n",
              "    <tr>\n",
              "      <th>Health_exp_per_capita_USD_2016</th>\n",
              "      <td>24</td>\n",
              "      <td>11.428571</td>\n",
              "    </tr>\n",
              "    <tr>\n",
              "      <th>per_capita_exp_PPP_2016</th>\n",
              "      <td>24</td>\n",
              "      <td>11.428571</td>\n",
              "    </tr>\n",
              "    <tr>\n",
              "      <th>External_health_exp_pct_2016</th>\n",
              "      <td>43</td>\n",
              "      <td>20.476190</td>\n",
              "    </tr>\n",
              "    <tr>\n",
              "      <th>Physicians_per_1000_2009-18</th>\n",
              "      <td>21</td>\n",
              "      <td>10.000000</td>\n",
              "    </tr>\n",
              "    <tr>\n",
              "      <th>Nurse_midwife_per_1000_2009-18</th>\n",
              "      <td>21</td>\n",
              "      <td>10.000000</td>\n",
              "    </tr>\n",
              "    <tr>\n",
              "      <th>Specialist_surgical_per_1000_2008-18</th>\n",
              "      <td>35</td>\n",
              "      <td>16.666667</td>\n",
              "    </tr>\n",
              "    <tr>\n",
              "      <th>Birth_2009-18</th>\n",
              "      <td>47</td>\n",
              "      <td>22.380952</td>\n",
              "    </tr>\n",
              "    <tr>\n",
              "      <th>Death_2008-16</th>\n",
              "      <td>103</td>\n",
              "      <td>49.047619</td>\n",
              "    </tr>\n",
              "  </tbody>\n",
              "</table>\n",
              "</div>\n",
              "      <button class=\"colab-df-convert\" onclick=\"convertToInteractive('df-d4d05525-ca13-438a-94a0-34283ea989e7')\"\n",
              "              title=\"Convert this dataframe to an interactive table.\"\n",
              "              style=\"display:none;\">\n",
              "        \n",
              "  <svg xmlns=\"http://www.w3.org/2000/svg\" height=\"24px\"viewBox=\"0 0 24 24\"\n",
              "       width=\"24px\">\n",
              "    <path d=\"M0 0h24v24H0V0z\" fill=\"none\"/>\n",
              "    <path d=\"M18.56 5.44l.94 2.06.94-2.06 2.06-.94-2.06-.94-.94-2.06-.94 2.06-2.06.94zm-11 1L8.5 8.5l.94-2.06 2.06-.94-2.06-.94L8.5 2.5l-.94 2.06-2.06.94zm10 10l.94 2.06.94-2.06 2.06-.94-2.06-.94-.94-2.06-.94 2.06-2.06.94z\"/><path d=\"M17.41 7.96l-1.37-1.37c-.4-.4-.92-.59-1.43-.59-.52 0-1.04.2-1.43.59L10.3 9.45l-7.72 7.72c-.78.78-.78 2.05 0 2.83L4 21.41c.39.39.9.59 1.41.59.51 0 1.02-.2 1.41-.59l7.78-7.78 2.81-2.81c.8-.78.8-2.07 0-2.86zM5.41 20L4 18.59l7.72-7.72 1.47 1.35L5.41 20z\"/>\n",
              "  </svg>\n",
              "      </button>\n",
              "      \n",
              "  <style>\n",
              "    .colab-df-container {\n",
              "      display:flex;\n",
              "      flex-wrap:wrap;\n",
              "      gap: 12px;\n",
              "    }\n",
              "\n",
              "    .colab-df-convert {\n",
              "      background-color: #E8F0FE;\n",
              "      border: none;\n",
              "      border-radius: 50%;\n",
              "      cursor: pointer;\n",
              "      display: none;\n",
              "      fill: #1967D2;\n",
              "      height: 32px;\n",
              "      padding: 0 0 0 0;\n",
              "      width: 32px;\n",
              "    }\n",
              "\n",
              "    .colab-df-convert:hover {\n",
              "      background-color: #E2EBFA;\n",
              "      box-shadow: 0px 1px 2px rgba(60, 64, 67, 0.3), 0px 1px 3px 1px rgba(60, 64, 67, 0.15);\n",
              "      fill: #174EA6;\n",
              "    }\n",
              "\n",
              "    [theme=dark] .colab-df-convert {\n",
              "      background-color: #3B4455;\n",
              "      fill: #D2E3FC;\n",
              "    }\n",
              "\n",
              "    [theme=dark] .colab-df-convert:hover {\n",
              "      background-color: #434B5C;\n",
              "      box-shadow: 0px 1px 3px 1px rgba(0, 0, 0, 0.15);\n",
              "      filter: drop-shadow(0px 1px 2px rgba(0, 0, 0, 0.3));\n",
              "      fill: #FFFFFF;\n",
              "    }\n",
              "  </style>\n",
              "\n",
              "      <script>\n",
              "        const buttonEl =\n",
              "          document.querySelector('#df-d4d05525-ca13-438a-94a0-34283ea989e7 button.colab-df-convert');\n",
              "        buttonEl.style.display =\n",
              "          google.colab.kernel.accessAllowed ? 'block' : 'none';\n",
              "\n",
              "        async function convertToInteractive(key) {\n",
              "          const element = document.querySelector('#df-d4d05525-ca13-438a-94a0-34283ea989e7');\n",
              "          const dataTable =\n",
              "            await google.colab.kernel.invokeFunction('convertToInteractive',\n",
              "                                                     [key], {});\n",
              "          if (!dataTable) return;\n",
              "\n",
              "          const docLinkHtml = 'Like what you see? Visit the ' +\n",
              "            '<a target=\"_blank\" href=https://colab.research.google.com/notebooks/data_table.ipynb>data table notebook</a>'\n",
              "            + ' to learn more about interactive tables.';\n",
              "          element.innerHTML = '';\n",
              "          dataTable['output_type'] = 'display_data';\n",
              "          await google.colab.output.renderOutput(dataTable, element);\n",
              "          const docLink = document.createElement('div');\n",
              "          docLink.innerHTML = docLinkHtml;\n",
              "          element.appendChild(docLink);\n",
              "        }\n",
              "      </script>\n",
              "    </div>\n",
              "  </div>\n",
              "  "
            ]
          },
          "metadata": {},
          "execution_count": 9
        }
      ]
    },
    {
      "cell_type": "code",
      "source": [
        "import missingno as msno\n",
        "msno.bar(df2)"
      ],
      "metadata": {
        "colab": {
          "base_uri": "https://localhost:8080/",
          "height": 661
        },
        "id": "3NKbwyTgE-Oc",
        "outputId": "ffd147d1-66c9-41d7-939d-028c1ee92e4b"
      },
      "execution_count": 10,
      "outputs": [
        {
          "output_type": "execute_result",
          "data": {
            "text/plain": [
              "<matplotlib.axes._subplots.AxesSubplot at 0x7f63d5109390>"
            ]
          },
          "metadata": {},
          "execution_count": 10
        },
        {
          "output_type": "display_data",
          "data": {
            "text/plain": [
              "<Figure size 1800x720 with 3 Axes>"
            ],
            "image/png": "[encoded data removed]"
          },
          "metadata": {
            "needs_background": "light"
          }
        }
      ]
    },
    {
      "cell_type": "code",
      "source": [
        "msno.heatmap(df2)"
      ],
      "metadata": {
        "colab": {
          "base_uri": "https://localhost:8080/",
          "height": 783
        },
        "id": "ZS_nt7-lFXSv",
        "outputId": "b8e5ed1c-9dba-494d-fe17-32d78c8ee3fb"
      },
      "execution_count": 11,
      "outputs": [
        {
          "output_type": "execute_result",
          "data": {
            "text/plain": [
              "<matplotlib.axes._subplots.AxesSubplot at 0x7f63d26d2510>"
            ]
          },
          "metadata": {},
          "execution_count": 11
        },
        {
          "output_type": "display_data",
          "data": {
            "text/plain": [
              "<Figure size 1440x864 with 2 Axes>"
            ],
            "image/png": "[encoded data removed]"
          },
          "metadata": {
            "needs_background": "light"
          }
        }
      ]
    },
    {
      "cell_type": "code",
      "source": [
        "from sklearn.impute import SimpleImputer\n",
        "finalDS = df2.copy()\n",
        "main_imputer = SimpleImputer(strategy = 'most_frequent')\n",
        "finalDS.iloc[:,:] = main_imputer.fit_transform(finalDS)\n",
        "finalDS.isnull().sum()"
      ],
      "metadata": {
        "colab": {
          "base_uri": "https://localhost:8080/"
        },
        "id": "TBl_Pa7XGWyo",
        "outputId": "0867d13f-3afa-4fc3-8b3c-f9fc7cc02d93"
      },
      "execution_count": 35,
      "outputs": [
        {
          "output_type": "execute_result",
          "data": {
            "text/plain": [
              "Region                                  0\n",
              "Province                                0\n",
              "Bank                                    0\n",
              "Health_exp_pct_GDP_2016                 0\n",
              "Health_exp_public_pct_2016              0\n",
              "Health_exp_out_of_pocket_pct_2016       0\n",
              "Health_exp_per_capita_USD_2016          0\n",
              "per_capita_exp_PPP_2016                 0\n",
              "External_health_exp_pct_2016            0\n",
              "Physicians_per_1000_2009-18             0\n",
              "Nurse_midwife_per_1000_2009-18          0\n",
              "Specialist_surgical_per_1000_2008-18    0\n",
              "Birth_2009-18                           0\n",
              "Death_2008-16                           0\n",
              "dtype: int64"
            ]
          },
          "metadata": {},
          "execution_count": 35
        }
      ]
    },
    {
      "cell_type": "code",
      "source": [
        "finalDS['Birth_2009-18'].hist(bins = 10)\n",
        "finalDS['Death_2008-16'].hist(bins = 10)"
      ],
      "metadata": {
        "colab": {
          "base_uri": "https://localhost:8080/",
          "height": 282
        },
        "id": "00cNceBi9eb4",
        "outputId": "ddfdf857-815e-4e19-881f-88a9949c4933"
      },
      "execution_count": 36,
      "outputs": [
        {
          "output_type": "execute_result",
          "data": {
            "text/plain": [
              "<matplotlib.axes._subplots.AxesSubplot at 0x7f63591852d0>"
            ]
          },
          "metadata": {},
          "execution_count": 36
        },
        {
          "output_type": "display_data",
          "data": {
            "text/plain": [
              "<Figure size 432x288 with 1 Axes>"
            ],
            "image/png": "[encoded data removed]"
          },
          "metadata": {
            "needs_background": "light"
          }
        }
      ]
    },
    {
      "cell_type": "code",
      "source": [
        "# Tochka 3:\n",
        "#Kje napravam chetiri modeli, \n",
        "#Dense\n",
        "#Konvulaciski\n",
        "#Kombinacija od Dense i Konvulaciski\n",
        "#XGBoost"
      ],
      "metadata": {
        "id": "jveBLM6b4j9E"
      },
      "execution_count": 37,
      "outputs": []
    },
    {
      "cell_type": "code",
      "source": [
        "finalDS.head()"
      ],
      "metadata": {
        "colab": {
          "base_uri": "https://localhost:8080/",
          "height": 374
        },
        "id": "M58lq9OYKWuO",
        "outputId": "2a6f6a1a-1b5f-4e0a-f685-1dd316a7e79b"
      },
      "execution_count": 38,
      "outputs": [
        {
          "output_type": "execute_result",
          "data": {
            "text/plain": [
              "        Region        Province         Bank  Health_exp_pct_GDP_2016  \\\n",
              "0  Afghanistan  Cayman Islands  Afghanistan                     10.2   \n",
              "1      Albania  Cayman Islands      Albania                      6.7   \n",
              "2      Algeria  Cayman Islands      Algeria                      6.6   \n",
              "3      Andorra  Cayman Islands      Andorra                     10.4   \n",
              "4       Angola  Cayman Islands       Angola                      2.9   \n",
              "\n",
              "   Health_exp_public_pct_2016  Health_exp_out_of_pocket_pct_2016  \\\n",
              "0                         5.1                               77.4   \n",
              "1                        41.4                               58.0   \n",
              "2                        67.7                               30.9   \n",
              "3                        49.1                               41.7   \n",
              "4                        44.1                               35.2   \n",
              "\n",
              "   Health_exp_per_capita_USD_2016  per_capita_exp_PPP_2016  \\\n",
              "0                            57.2                    162.8   \n",
              "1                           271.5                    759.7   \n",
              "2                           260.4                    998.2   \n",
              "3                          3834.7                   4978.7   \n",
              "4                            95.2                    185.8   \n",
              "\n",
              "   External_health_exp_pct_2016  Physicians_per_1000_2009-18  \\\n",
              "0                          17.5                          0.3   \n",
              "1                           0.7                          1.2   \n",
              "2                           0.0                          1.8   \n",
              "3                           0.0                          3.3   \n",
              "4                           3.6                          0.2   \n",
              "\n",
              "   Nurse_midwife_per_1000_2009-18  Specialist_surgical_per_1000_2008-18  \\\n",
              "0                             0.3                                   0.0   \n",
              "1                             3.6                                  11.6   \n",
              "2                             2.2                                  12.1   \n",
              "3                             4.0                                  83.1   \n",
              "4                             1.3                                   0.4   \n",
              "\n",
              "   Birth_2009-18  Death_2008-16  \n",
              "0           42.3          100.0  \n",
              "1           98.4           53.0  \n",
              "2          100.0          100.0  \n",
              "3          100.0           80.0  \n",
              "4           25.0          100.0  "
            ],
            "text/html": [
              "\n",
              "  <div id=\"df-30915346-dafa-4170-a60f-6d70104b57ac\">\n",
              "    <div class=\"colab-df-container\">\n",
              "      <div>\n",
              "<style scoped>\n",
              "    .dataframe tbody tr th:only-of-type {\n",
              "        vertical-align: middle;\n",
              "    }\n",
              "\n",
              "    .dataframe tbody tr th {\n",
              "        vertical-align: top;\n",
              "    }\n",
              "\n",
              "    .dataframe thead th {\n",
              "        text-align: right;\n",
              "    }\n",
              "</style>\n",
              "<table border=\"1\" class=\"dataframe\">\n",
              "  <thead>\n",
              "    <tr style=\"text-align: right;\">\n",
              "      <th></th>\n",
              "      <th>Region</th>\n",
              "      <th>Province</th>\n",
              "      <th>Bank</th>\n",
              "      <th>Health_exp_pct_GDP_2016</th>\n",
              "      <th>Health_exp_public_pct_2016</th>\n",
              "      <th>Health_exp_out_of_pocket_pct_2016</th>\n",
              "      <th>Health_exp_per_capita_USD_2016</th>\n",
              "      <th>per_capita_exp_PPP_2016</th>\n",
              "      <th>External_health_exp_pct_2016</th>\n",
              "      <th>Physicians_per_1000_2009-18</th>\n",
              "      <th>Nurse_midwife_per_1000_2009-18</th>\n",
              "      <th>Specialist_surgical_per_1000_2008-18</th>\n",
              "      <th>Birth_2009-18</th>\n",
              "      <th>Death_2008-16</th>\n",
              "    </tr>\n",
              "  </thead>\n",
              "  <tbody>\n",
              "    <tr>\n",
              "      <th>0</th>\n",
              "      <td>Afghanistan</td>\n",
              "      <td>Cayman Islands</td>\n",
              "      <td>Afghanistan</td>\n",
              "      <td>10.2</td>\n",
              "      <td>5.1</td>\n",
              "      <td>77.4</td>\n",
              "      <td>57.2</td>\n",
              "      <td>162.8</td>\n",
              "      <td>17.5</td>\n",
              "      <td>0.3</td>\n",
              "      <td>0.3</td>\n",
              "      <td>0.0</td>\n",
              "      <td>42.3</td>\n",
              "      <td>100.0</td>\n",
              "    </tr>\n",
              "    <tr>\n",
              "      <th>1</th>\n",
              "      <td>Albania</td>\n",
              "      <td>Cayman Islands</td>\n",
              "      <td>Albania</td>\n",
              "      <td>6.7</td>\n",
              "      <td>41.4</td>\n",
              "      <td>58.0</td>\n",
              "      <td>271.5</td>\n",
              "      <td>759.7</td>\n",
              "      <td>0.7</td>\n",
              "      <td>1.2</td>\n",
              "      <td>3.6</td>\n",
              "      <td>11.6</td>\n",
              "      <td>98.4</td>\n",
              "      <td>53.0</td>\n",
              "    </tr>\n",
              "    <tr>\n",
              "      <th>2</th>\n",
              "      <td>Algeria</td>\n",
              "      <td>Cayman Islands</td>\n",
              "      <td>Algeria</td>\n",
              "      <td>6.6</td>\n",
              "      <td>67.7</td>\n",
              "      <td>30.9</td>\n",
              "      <td>260.4</td>\n",
              "      <td>998.2</td>\n",
              "      <td>0.0</td>\n",
              "      <td>1.8</td>\n",
              "      <td>2.2</td>\n",
              "      <td>12.1</td>\n",
              "      <td>100.0</td>\n",
              "      <td>100.0</td>\n",
              "    </tr>\n",
              "    <tr>\n",
              "      <th>3</th>\n",
              "      <td>Andorra</td>\n",
              "      <td>Cayman Islands</td>\n",
              "      <td>Andorra</td>\n",
              "      <td>10.4</td>\n",
              "      <td>49.1</td>\n",
              "      <td>41.7</td>\n",
              "      <td>3834.7</td>\n",
              "      <td>4978.7</td>\n",
              "      <td>0.0</td>\n",
              "      <td>3.3</td>\n",
              "      <td>4.0</td>\n",
              "      <td>83.1</td>\n",
              "      <td>100.0</td>\n",
              "      <td>80.0</td>\n",
              "    </tr>\n",
              "    <tr>\n",
              "      <th>4</th>\n",
              "      <td>Angola</td>\n",
              "      <td>Cayman Islands</td>\n",
              "      <td>Angola</td>\n",
              "      <td>2.9</td>\n",
              "      <td>44.1</td>\n",
              "      <td>35.2</td>\n",
              "      <td>95.2</td>\n",
              "      <td>185.8</td>\n",
              "      <td>3.6</td>\n",
              "      <td>0.2</td>\n",
              "      <td>1.3</td>\n",
              "      <td>0.4</td>\n",
              "      <td>25.0</td>\n",
              "      <td>100.0</td>\n",
              "    </tr>\n",
              "  </tbody>\n",
              "</table>\n",
              "</div>\n",
              "      <button class=\"colab-df-convert\" onclick=\"convertToInteractive('df-30915346-dafa-4170-a60f-6d70104b57ac')\"\n",
              "              title=\"Convert this dataframe to an interactive table.\"\n",
              "              style=\"display:none;\">\n",
              "        \n",
              "  <svg xmlns=\"http://www.w3.org/2000/svg\" height=\"24px\"viewBox=\"0 0 24 24\"\n",
              "       width=\"24px\">\n",
              "    <path d=\"M0 0h24v24H0V0z\" fill=\"none\"/>\n",
              "    <path d=\"M18.56 5.44l.94 2.06.94-2.06 2.06-.94-2.06-.94-.94-2.06-.94 2.06-2.06.94zm-11 1L8.5 8.5l.94-2.06 2.06-.94-2.06-.94L8.5 2.5l-.94 2.06-2.06.94zm10 10l.94 2.06.94-2.06 2.06-.94-2.06-.94-.94-2.06-.94 2.06-2.06.94z\"/><path d=\"M17.41 7.96l-1.37-1.37c-.4-.4-.92-.59-1.43-.59-.52 0-1.04.2-1.43.59L10.3 9.45l-7.72 7.72c-.78.78-.78 2.05 0 2.83L4 21.41c.39.39.9.59 1.41.59.51 0 1.02-.2 1.41-.59l7.78-7.78 2.81-2.81c.8-.78.8-2.07 0-2.86zM5.41 20L4 18.59l7.72-7.72 1.47 1.35L5.41 20z\"/>\n",
              "  </svg>\n",
              "      </button>\n",
              "      \n",
              "  <style>\n",
              "    .colab-df-container {\n",
              "      display:flex;\n",
              "      flex-wrap:wrap;\n",
              "      gap: 12px;\n",
              "    }\n",
              "\n",
              "    .colab-df-convert {\n",
              "      background-color: #E8F0FE;\n",
              "      border: none;\n",
              "      border-radius: 50%;\n",
              "      cursor: pointer;\n",
              "      display: none;\n",
              "      fill: #1967D2;\n",
              "      height: 32px;\n",
              "      padding: 0 0 0 0;\n",
              "      width: 32px;\n",
              "    }\n",
              "\n",
              "    .colab-df-convert:hover {\n",
              "      background-color: #E2EBFA;\n",
              "      box-shadow: 0px 1px 2px rgba(60, 64, 67, 0.3), 0px 1px 3px 1px rgba(60, 64, 67, 0.15);\n",
              "      fill: #174EA6;\n",
              "    }\n",
              "\n",
              "    [theme=dark] .colab-df-convert {\n",
              "      background-color: #3B4455;\n",
              "      fill: #D2E3FC;\n",
              "    }\n",
              "\n",
              "    [theme=dark] .colab-df-convert:hover {\n",
              "      background-color: #434B5C;\n",
              "      box-shadow: 0px 1px 3px 1px rgba(0, 0, 0, 0.15);\n",
              "      filter: drop-shadow(0px 1px 2px rgba(0, 0, 0, 0.3));\n",
              "      fill: #FFFFFF;\n",
              "    }\n",
              "  </style>\n",
              "\n",
              "      <script>\n",
              "        const buttonEl =\n",
              "          document.querySelector('#df-30915346-dafa-4170-a60f-6d70104b57ac button.colab-df-convert');\n",
              "        buttonEl.style.display =\n",
              "          google.colab.kernel.accessAllowed ? 'block' : 'none';\n",
              "\n",
              "        async function convertToInteractive(key) {\n",
              "          const element = document.querySelector('#df-30915346-dafa-4170-a60f-6d70104b57ac');\n",
              "          const dataTable =\n",
              "            await google.colab.kernel.invokeFunction('convertToInteractive',\n",
              "                                                     [key], {});\n",
              "          if (!dataTable) return;\n",
              "\n",
              "          const docLinkHtml = 'Like what you see? Visit the ' +\n",
              "            '<a target=\"_blank\" href=https://colab.research.google.com/notebooks/data_table.ipynb>data table notebook</a>'\n",
              "            + ' to learn more about interactive tables.';\n",
              "          element.innerHTML = '';\n",
              "          dataTable['output_type'] = 'display_data';\n",
              "          await google.colab.output.renderOutput(dataTable, element);\n",
              "          const docLink = document.createElement('div');\n",
              "          docLink.innerHTML = docLinkHtml;\n",
              "          element.appendChild(docLink);\n",
              "        }\n",
              "      </script>\n",
              "    </div>\n",
              "  </div>\n",
              "  "
            ]
          },
          "metadata": {},
          "execution_count": 38
        }
      ]
    },
    {
      "cell_type": "code",
      "source": [
        "target_column = finalDS['Bank'].copy()"
      ],
      "metadata": {
        "id": "1r4rJtuOK5no"
      },
      "execution_count": 40,
      "outputs": []
    },
    {
      "cell_type": "code",
      "source": [
        "finalDS.drop(['Bank'],axis=1,inplace=True)"
      ],
      "metadata": {
        "id": "8cLxif1YLGJ7"
      },
      "execution_count": 41,
      "outputs": []
    },
    {
      "cell_type": "code",
      "source": [
        "# label encoding the data \n",
        "from sklearn.preprocessing import LabelEncoder \n",
        "\n",
        "le = LabelEncoder() \n",
        "target_column= le.fit_transform(target_column) "
      ],
      "metadata": {
        "id": "2ymuCuuEL56h"
      },
      "execution_count": 42,
      "outputs": []
    },
    {
      "cell_type": "code",
      "source": [
        "finalDS['Region'] = le.fit_transform(finalDS['Region'])"
      ],
      "metadata": {
        "id": "0oeSfApOQyCn"
      },
      "execution_count": 43,
      "outputs": []
    },
    {
      "cell_type": "code",
      "source": [
        "finalDS['Province'] = le.fit_transform(finalDS['Province'])"
      ],
      "metadata": {
        "id": "NUyX4BcbREAd"
      },
      "execution_count": 44,
      "outputs": []
    },
    {
      "cell_type": "code",
      "source": [
        "finalDS.head()"
      ],
      "metadata": {
        "colab": {
          "base_uri": "https://localhost:8080/",
          "height": 287
        },
        "id": "WVCJ3T-fU_Es",
        "outputId": "19b04ef8-eb93-4312-b936-2d5e05d8ef7d"
      },
      "execution_count": 45,
      "outputs": [
        {
          "output_type": "execute_result",
          "data": {
            "text/plain": [
              "   Region  Province  Health_exp_pct_GDP_2016  Health_exp_public_pct_2016  \\\n",
              "0       0         0                     10.2                         5.1   \n",
              "1       1         0                      6.7                        41.4   \n",
              "2       2         0                      6.6                        67.7   \n",
              "3       3         0                     10.4                        49.1   \n",
              "4       4         0                      2.9                        44.1   \n",
              "\n",
              "   Health_exp_out_of_pocket_pct_2016  Health_exp_per_capita_USD_2016  \\\n",
              "0                               77.4                            57.2   \n",
              "1                               58.0                           271.5   \n",
              "2                               30.9                           260.4   \n",
              "3                               41.7                          3834.7   \n",
              "4                               35.2                            95.2   \n",
              "\n",
              "   per_capita_exp_PPP_2016  External_health_exp_pct_2016  \\\n",
              "0                    162.8                          17.5   \n",
              "1                    759.7                           0.7   \n",
              "2                    998.2                           0.0   \n",
              "3                   4978.7                           0.0   \n",
              "4                    185.8                           3.6   \n",
              "\n",
              "   Physicians_per_1000_2009-18  Nurse_midwife_per_1000_2009-18  \\\n",
              "0                          0.3                             0.3   \n",
              "1                          1.2                             3.6   \n",
              "2                          1.8                             2.2   \n",
              "3                          3.3                             4.0   \n",
              "4                          0.2                             1.3   \n",
              "\n",
              "   Specialist_surgical_per_1000_2008-18  Birth_2009-18  Death_2008-16  \n",
              "0                                   0.0           42.3          100.0  \n",
              "1                                  11.6           98.4           53.0  \n",
              "2                                  12.1          100.0          100.0  \n",
              "3                                  83.1          100.0           80.0  \n",
              "4                                   0.4           25.0          100.0  "
            ],
            "text/html": [
              "\n",
              "  <div id=\"df-0ae20890-4f8c-4898-b587-628383716ced\">\n",
              "    <div class=\"colab-df-container\">\n",
              "      <div>\n",
              "<style scoped>\n",
              "    .dataframe tbody tr th:only-of-type {\n",
              "        vertical-align: middle;\n",
              "    }\n",
              "\n",
              "    .dataframe tbody tr th {\n",
              "        vertical-align: top;\n",
              "    }\n",
              "\n",
              "    .dataframe thead th {\n",
              "        text-align: right;\n",
              "    }\n",
              "</style>\n",
              "<table border=\"1\" class=\"dataframe\">\n",
              "  <thead>\n",
              "    <tr style=\"text-align: right;\">\n",
              "      <th></th>\n",
              "      <th>Region</th>\n",
              "      <th>Province</th>\n",
              "      <th>Health_exp_pct_GDP_2016</th>\n",
              "      <th>Health_exp_public_pct_2016</th>\n",
              "      <th>Health_exp_out_of_pocket_pct_2016</th>\n",
              "      <th>Health_exp_per_capita_USD_2016</th>\n",
              "      <th>per_capita_exp_PPP_2016</th>\n",
              "      <th>External_health_exp_pct_2016</th>\n",
              "      <th>Physicians_per_1000_2009-18</th>\n",
              "      <th>Nurse_midwife_per_1000_2009-18</th>\n",
              "      <th>Specialist_surgical_per_1000_2008-18</th>\n",
              "      <th>Birth_2009-18</th>\n",
              "      <th>Death_2008-16</th>\n",
              "    </tr>\n",
              "  </thead>\n",
              "  <tbody>\n",
              "    <tr>\n",
              "      <th>0</th>\n",
              "      <td>0</td>\n",
              "      <td>0</td>\n",
              "      <td>10.2</td>\n",
              "      <td>5.1</td>\n",
              "      <td>77.4</td>\n",
              "      <td>57.2</td>\n",
              "      <td>162.8</td>\n",
              "      <td>17.5</td>\n",
              "      <td>0.3</td>\n",
              "      <td>0.3</td>\n",
              "      <td>0.0</td>\n",
              "      <td>42.3</td>\n",
              "      <td>100.0</td>\n",
              "    </tr>\n",
              "    <tr>\n",
              "      <th>1</th>\n",
              "      <td>1</td>\n",
              "      <td>0</td>\n",
              "      <td>6.7</td>\n",
              "      <td>41.4</td>\n",
              "      <td>58.0</td>\n",
              "      <td>271.5</td>\n",
              "      <td>759.7</td>\n",
              "      <td>0.7</td>\n",
              "      <td>1.2</td>\n",
              "      <td>3.6</td>\n",
              "      <td>11.6</td>\n",
              "      <td>98.4</td>\n",
              "      <td>53.0</td>\n",
              "    </tr>\n",
              "    <tr>\n",
              "      <th>2</th>\n",
              "      <td>2</td>\n",
              "      <td>0</td>\n",
              "      <td>6.6</td>\n",
              "      <td>67.7</td>\n",
              "      <td>30.9</td>\n",
              "      <td>260.4</td>\n",
              "      <td>998.2</td>\n",
              "      <td>0.0</td>\n",
              "      <td>1.8</td>\n",
              "      <td>2.2</td>\n",
              "      <td>12.1</td>\n",
              "      <td>100.0</td>\n",
              "      <td>100.0</td>\n",
              "    </tr>\n",
              "    <tr>\n",
              "      <th>3</th>\n",
              "      <td>3</td>\n",
              "      <td>0</td>\n",
              "      <td>10.4</td>\n",
              "      <td>49.1</td>\n",
              "      <td>41.7</td>\n",
              "      <td>3834.7</td>\n",
              "      <td>4978.7</td>\n",
              "      <td>0.0</td>\n",
              "      <td>3.3</td>\n",
              "      <td>4.0</td>\n",
              "      <td>83.1</td>\n",
              "      <td>100.0</td>\n",
              "      <td>80.0</td>\n",
              "    </tr>\n",
              "    <tr>\n",
              "      <th>4</th>\n",
              "      <td>4</td>\n",
              "      <td>0</td>\n",
              "      <td>2.9</td>\n",
              "      <td>44.1</td>\n",
              "      <td>35.2</td>\n",
              "      <td>95.2</td>\n",
              "      <td>185.8</td>\n",
              "      <td>3.6</td>\n",
              "      <td>0.2</td>\n",
              "      <td>1.3</td>\n",
              "      <td>0.4</td>\n",
              "      <td>25.0</td>\n",
              "      <td>100.0</td>\n",
              "    </tr>\n",
              "  </tbody>\n",
              "</table>\n",
              "</div>\n",
              "      <button class=\"colab-df-convert\" onclick=\"convertToInteractive('df-0ae20890-4f8c-4898-b587-628383716ced')\"\n",
              "              title=\"Convert this dataframe to an interactive table.\"\n",
              "              style=\"display:none;\">\n",
              "        \n",
              "  <svg xmlns=\"http://www.w3.org/2000/svg\" height=\"24px\"viewBox=\"0 0 24 24\"\n",
              "       width=\"24px\">\n",
              "    <path d=\"M0 0h24v24H0V0z\" fill=\"none\"/>\n",
              "    <path d=\"M18.56 5.44l.94 2.06.94-2.06 2.06-.94-2.06-.94-.94-2.06-.94 2.06-2.06.94zm-11 1L8.5 8.5l.94-2.06 2.06-.94-2.06-.94L8.5 2.5l-.94 2.06-2.06.94zm10 10l.94 2.06.94-2.06 2.06-.94-2.06-.94-.94-2.06-.94 2.06-2.06.94z\"/><path d=\"M17.41 7.96l-1.37-1.37c-.4-.4-.92-.59-1.43-.59-.52 0-1.04.2-1.43.59L10.3 9.45l-7.72 7.72c-.78.78-.78 2.05 0 2.83L4 21.41c.39.39.9.59 1.41.59.51 0 1.02-.2 1.41-.59l7.78-7.78 2.81-2.81c.8-.78.8-2.07 0-2.86zM5.41 20L4 18.59l7.72-7.72 1.47 1.35L5.41 20z\"/>\n",
              "  </svg>\n",
              "      </button>\n",
              "      \n",
              "  <style>\n",
              "    .colab-df-container {\n",
              "      display:flex;\n",
              "      flex-wrap:wrap;\n",
              "      gap: 12px;\n",
              "    }\n",
              "\n",
              "    .colab-df-convert {\n",
              "      background-color: #E8F0FE;\n",
              "      border: none;\n",
              "      border-radius: 50%;\n",
              "      cursor: pointer;\n",
              "      display: none;\n",
              "      fill: #1967D2;\n",
              "      height: 32px;\n",
              "      padding: 0 0 0 0;\n",
              "      width: 32px;\n",
              "    }\n",
              "\n",
              "    .colab-df-convert:hover {\n",
              "      background-color: #E2EBFA;\n",
              "      box-shadow: 0px 1px 2px rgba(60, 64, 67, 0.3), 0px 1px 3px 1px rgba(60, 64, 67, 0.15);\n",
              "      fill: #174EA6;\n",
              "    }\n",
              "\n",
              "    [theme=dark] .colab-df-convert {\n",
              "      background-color: #3B4455;\n",
              "      fill: #D2E3FC;\n",
              "    }\n",
              "\n",
              "    [theme=dark] .colab-df-convert:hover {\n",
              "      background-color: #434B5C;\n",
              "      box-shadow: 0px 1px 3px 1px rgba(0, 0, 0, 0.15);\n",
              "      filter: drop-shadow(0px 1px 2px rgba(0, 0, 0, 0.3));\n",
              "      fill: #FFFFFF;\n",
              "    }\n",
              "  </style>\n",
              "\n",
              "      <script>\n",
              "        const buttonEl =\n",
              "          document.querySelector('#df-0ae20890-4f8c-4898-b587-628383716ced button.colab-df-convert');\n",
              "        buttonEl.style.display =\n",
              "          google.colab.kernel.accessAllowed ? 'block' : 'none';\n",
              "\n",
              "        async function convertToInteractive(key) {\n",
              "          const element = document.querySelector('#df-0ae20890-4f8c-4898-b587-628383716ced');\n",
              "          const dataTable =\n",
              "            await google.colab.kernel.invokeFunction('convertToInteractive',\n",
              "                                                     [key], {});\n",
              "          if (!dataTable) return;\n",
              "\n",
              "          const docLinkHtml = 'Like what you see? Visit the ' +\n",
              "            '<a target=\"_blank\" href=https://colab.research.google.com/notebooks/data_table.ipynb>data table notebook</a>'\n",
              "            + ' to learn more about interactive tables.';\n",
              "          element.innerHTML = '';\n",
              "          dataTable['output_type'] = 'display_data';\n",
              "          await google.colab.output.renderOutput(dataTable, element);\n",
              "          const docLink = document.createElement('div');\n",
              "          docLink.innerHTML = docLinkHtml;\n",
              "          element.appendChild(docLink);\n",
              "        }\n",
              "      </script>\n",
              "    </div>\n",
              "  </div>\n",
              "  "
            ]
          },
          "metadata": {},
          "execution_count": 45
        }
      ]
    },
    {
      "cell_type": "code",
      "source": [
        "# Podelba po mnozhestva na train i test\n",
        "from sklearn.model_selection import train_test_split\n",
        "\n",
        "X_train, X_val, Y_train, Y_val = train_test_split(finalDS, \n",
        "                                                  target_column, \n",
        "                                                  random_state=42\n",
        "                                                  ) "
      ],
      "metadata": {
        "id": "VWqSaRaxHJ6y"
      },
      "execution_count": 46,
      "outputs": []
    },
    {
      "cell_type": "code",
      "source": [
        "from keras.layers import LSTM\n",
        "import keras.backend as K\n",
        "from keras.models import Sequential\n",
        "from keras.layers import Dense,Embedding,Conv1D,MaxPooling1D,LSTM, Flatten, Dropout\n",
        "from sklearn.metrics import accuracy_score,confusion_matrix,classification_report"
      ],
      "metadata": {
        "id": "Im6j4OWobSMo"
      },
      "execution_count": 47,
      "outputs": []
    },
    {
      "cell_type": "code",
      "source": [
        "#PRV MODEL\n",
        "#Dense model\n",
        "model = Sequential()\n",
        "model.add(Dense(16, input_dim=13, kernel_initializer = 'uniform', activation='relu'))\n",
        "model.add(Dense(8,kernel_initializer = 'uniform', activation='relu'))\n",
        "model.add(Dense(8,kernel_initializer = 'uniform', activation='relu'))\n",
        "model.add(Dense(1, kernel_initializer = 'uniform',activation='softmax'))"
      ],
      "metadata": {
        "id": "2om3URnY-fBb"
      },
      "execution_count": 24,
      "outputs": []
    },
    {
      "cell_type": "code",
      "source": [
        "X_train.shape"
      ],
      "metadata": {
        "colab": {
          "base_uri": "https://localhost:8080/"
        },
        "id": "xW_3NoSoRVAN",
        "outputId": "48f7ca23-c6b1-4e72-953c-61489d74b9f7"
      },
      "execution_count": 25,
      "outputs": [
        {
          "output_type": "execute_result",
          "data": {
            "text/plain": [
              "(157, 13)"
            ]
          },
          "metadata": {},
          "execution_count": 25
        }
      ]
    },
    {
      "cell_type": "code",
      "source": [
        "model.compile(loss='categorical_crossentropy', optimizer='adam', metrics=['accuracy'])"
      ],
      "metadata": {
        "id": "c7g5B15XBLF_"
      },
      "execution_count": 26,
      "outputs": []
    },
    {
      "cell_type": "code",
      "source": [
        "model.fit(X_train, Y_train, epochs=5, batch_size=10, verbose=1)"
      ],
      "metadata": {
        "colab": {
          "base_uri": "https://localhost:8080/"
        },
        "id": "jsfn8SMhEisn",
        "outputId": "ca1cefd1-43c8-4608-b3b8-d35d5447d8c7"
      },
      "execution_count": 27,
      "outputs": [
        {
          "output_type": "stream",
          "name": "stdout",
          "text": [
            "Epoch 1/5\n",
            "16/16 [==============================] - 1s 2ms/step - loss: 0.0000e+00 - accuracy: 0.0064 \n",
            "Epoch 2/5\n",
            "16/16 [==============================] - 0s 2ms/step - loss: 0.0000e+00 - accuracy: 0.0064\n",
            "Epoch 3/5\n",
            "16/16 [==============================] - 0s 2ms/step - loss: 0.0000e+00 - accuracy: 0.0064\n",
            "Epoch 4/5\n",
            "16/16 [==============================] - 0s 2ms/step - loss: 0.0000e+00 - accuracy: 0.0064\n",
            "Epoch 5/5\n",
            "16/16 [==============================] - 0s 2ms/step - loss: 0.0000e+00 - accuracy: 0.0064\n"
          ]
        },
        {
          "output_type": "execute_result",
          "data": {
            "text/plain": [
              "<keras.callbacks.History at 0x7f63636a5510>"
            ]
          },
          "metadata": {},
          "execution_count": 27
        }
      ]
    },
    {
      "cell_type": "code",
      "source": [
        "# Tochnost na modelot\n",
        "_, accuracy = model.evaluate(X_train, Y_train)\n",
        "print('Accuracy: %.2f' % (accuracy*100))"
      ],
      "metadata": {
        "colab": {
          "base_uri": "https://localhost:8080/"
        },
        "id": "_udGz7AMR4Jy",
        "outputId": "b2c495a7-528b-4c1d-bb45-27ac546d74fd"
      },
      "execution_count": 28,
      "outputs": [
        {
          "output_type": "stream",
          "name": "stdout",
          "text": [
            "5/5 [==============================] - 0s 3ms/step - loss: 0.0000e+00 - accuracy: 0.0064\n",
            "Accuracy: 0.64\n"
          ]
        }
      ]
    },
    {
      "cell_type": "code",
      "source": [
        "# VTOR MODEL\n",
        "# Konvulaciski\n",
        "\n",
        "K.clear_session()\n",
        "model = Sequential()\n",
        "model.add(Conv1D(filters=16, kernel_size=2, padding='same', activation='relu'))\n",
        "model.add(MaxPooling1D(pool_size=2))\n",
        "model.add(Conv1D(filters=16, kernel_size=2, padding='same', activation='relu'))\n",
        "model.add(MaxPooling1D(pool_size=2))    \n",
        "model.add(LSTM(100, dropout=0.2, recurrent_dropout=0.2))\n",
        "model.add(Dense(2, activation='softmax'))"
      ],
      "metadata": {
        "id": "99YvoiABV9I7"
      },
      "execution_count": 29,
      "outputs": []
    },
    {
      "cell_type": "code",
      "source": [
        "model.compile(loss='categorical_crossentropy', optimizer='adam', metrics=['accuracy'])"
      ],
      "metadata": {
        "id": "u3b1jvPyWNvj"
      },
      "execution_count": 30,
      "outputs": []
    },
    {
      "cell_type": "code",
      "source": [
        "model_history = model.fit(X_train, Y_train,  epochs=10, batch_size=128, verbose=2 )"
      ],
      "metadata": {
        "colab": {
          "base_uri": "https://localhost:8080/",
          "height": 710
        },
        "id": "RIC5u0oGWiy0",
        "outputId": "25f152c0-ade9-432b-d1a4-f3f7de6e8e17"
      },
      "execution_count": 48,
      "outputs": [
        {
          "output_type": "stream",
          "name": "stdout",
          "text": [
            "Epoch 1/10\n"
          ]
        },
        {
          "output_type": "error",
          "ename": "ValueError",
          "evalue": "ignored",
          "traceback": [
            "\u001b[0;31m---------------------------------------------------------------------------\u001b[0m",
            "\u001b[0;31mValueError\u001b[0m                                Traceback (most recent call last)",
            "\u001b[0;32m<ipython-input-48-271f702b34aa>\u001b[0m in \u001b[0;36m<module>\u001b[0;34m()\u001b[0m\n\u001b[0;32m----> 1\u001b[0;31m \u001b[0mmodel_history\u001b[0m \u001b[0;34m=\u001b[0m \u001b[0mmodel\u001b[0m\u001b[0;34m.\u001b[0m\u001b[0mfit\u001b[0m\u001b[0;34m(\u001b[0m\u001b[0mX_train\u001b[0m\u001b[0;34m,\u001b[0m \u001b[0mY_train\u001b[0m\u001b[0;34m,\u001b[0m  \u001b[0mepochs\u001b[0m\u001b[0;34m=\u001b[0m\u001b[0;36m10\u001b[0m\u001b[0;34m,\u001b[0m \u001b[0mbatch_size\u001b[0m\u001b[0;34m=\u001b[0m\u001b[0;36m128\u001b[0m\u001b[0;34m,\u001b[0m \u001b[0mverbose\u001b[0m\u001b[0;34m=\u001b[0m\u001b[0;36m2\u001b[0m \u001b[0;34m)\u001b[0m\u001b[0;34m\u001b[0m\u001b[0;34m\u001b[0m\u001b[0m\n\u001b[0m",
            "\u001b[0;32m/usr/local/lib/python3.7/dist-packages/keras/utils/traceback_utils.py\u001b[0m in \u001b[0;36merror_handler\u001b[0;34m(*args, **kwargs)\u001b[0m\n\u001b[1;32m     65\u001b[0m     \u001b[0;32mexcept\u001b[0m \u001b[0mException\u001b[0m \u001b[0;32mas\u001b[0m \u001b[0me\u001b[0m\u001b[0;34m:\u001b[0m  \u001b[0;31m# pylint: disable=broad-except\u001b[0m\u001b[0;34m\u001b[0m\u001b[0;34m\u001b[0m\u001b[0m\n\u001b[1;32m     66\u001b[0m       \u001b[0mfiltered_tb\u001b[0m \u001b[0;34m=\u001b[0m \u001b[0m_process_traceback_frames\u001b[0m\u001b[0;34m(\u001b[0m\u001b[0me\u001b[0m\u001b[0;34m.\u001b[0m\u001b[0m__traceback__\u001b[0m\u001b[0;34m)\u001b[0m\u001b[0;34m\u001b[0m\u001b[0;34m\u001b[0m\u001b[0m\n\u001b[0;32m---> 67\u001b[0;31m       \u001b[0;32mraise\u001b[0m \u001b[0me\u001b[0m\u001b[0;34m.\u001b[0m\u001b[0mwith_traceback\u001b[0m\u001b[0;34m(\u001b[0m\u001b[0mfiltered_tb\u001b[0m\u001b[0;34m)\u001b[0m \u001b[0;32mfrom\u001b[0m \u001b[0;32mNone\u001b[0m\u001b[0;34m\u001b[0m\u001b[0;34m\u001b[0m\u001b[0m\n\u001b[0m\u001b[1;32m     68\u001b[0m     \u001b[0;32mfinally\u001b[0m\u001b[0;34m:\u001b[0m\u001b[0;34m\u001b[0m\u001b[0;34m\u001b[0m\u001b[0m\n\u001b[1;32m     69\u001b[0m       \u001b[0;32mdel\u001b[0m \u001b[0mfiltered_tb\u001b[0m\u001b[0;34m\u001b[0m\u001b[0;34m\u001b[0m\u001b[0m\n",
            "\u001b[0;32m/usr/local/lib/python3.7/dist-packages/tensorflow/python/framework/func_graph.py\u001b[0m in \u001b[0;36mautograph_handler\u001b[0;34m(*args, **kwargs)\u001b[0m\n\u001b[1;32m   1145\u001b[0m           \u001b[0;32mexcept\u001b[0m \u001b[0mException\u001b[0m \u001b[0;32mas\u001b[0m \u001b[0me\u001b[0m\u001b[0;34m:\u001b[0m  \u001b[0;31m# pylint:disable=broad-except\u001b[0m\u001b[0;34m\u001b[0m\u001b[0;34m\u001b[0m\u001b[0m\n\u001b[1;32m   1146\u001b[0m             \u001b[0;32mif\u001b[0m \u001b[0mhasattr\u001b[0m\u001b[0;34m(\u001b[0m\u001b[0me\u001b[0m\u001b[0;34m,\u001b[0m \u001b[0;34m\"ag_error_metadata\"\u001b[0m\u001b[0;34m)\u001b[0m\u001b[0;34m:\u001b[0m\u001b[0;34m\u001b[0m\u001b[0;34m\u001b[0m\u001b[0m\n\u001b[0;32m-> 1147\u001b[0;31m               \u001b[0;32mraise\u001b[0m \u001b[0me\u001b[0m\u001b[0;34m.\u001b[0m\u001b[0mag_error_metadata\u001b[0m\u001b[0;34m.\u001b[0m\u001b[0mto_exception\u001b[0m\u001b[0;34m(\u001b[0m\u001b[0me\u001b[0m\u001b[0;34m)\u001b[0m\u001b[0;34m\u001b[0m\u001b[0;34m\u001b[0m\u001b[0m\n\u001b[0m\u001b[1;32m   1148\u001b[0m             \u001b[0;32melse\u001b[0m\u001b[0;34m:\u001b[0m\u001b[0;34m\u001b[0m\u001b[0;34m\u001b[0m\u001b[0m\n\u001b[1;32m   1149\u001b[0m               \u001b[0;32mraise\u001b[0m\u001b[0;34m\u001b[0m\u001b[0;34m\u001b[0m\u001b[0m\n",
            "\u001b[0;31mValueError\u001b[0m: in user code:\n\n    File \"/usr/local/lib/python3.7/dist-packages/keras/engine/training.py\", line 1021, in train_function  *\n        return step_function(self, iterator)\n    File \"/usr/local/lib/python3.7/dist-packages/keras/engine/training.py\", line 1010, in step_function  **\n        outputs = model.distribute_strategy.run(run_step, args=(data,))\n    File \"/usr/local/lib/python3.7/dist-packages/keras/engine/training.py\", line 1000, in run_step  **\n        outputs = model.train_step(data)\n    File \"/usr/local/lib/python3.7/dist-packages/keras/engine/training.py\", line 859, in train_step\n        y_pred = self(x, training=True)\n    File \"/usr/local/lib/python3.7/dist-packages/keras/utils/traceback_utils.py\", line 67, in error_handler\n        raise e.with_traceback(filtered_tb) from None\n    File \"/usr/local/lib/python3.7/dist-packages/keras/engine/input_spec.py\", line 228, in assert_input_compatibility\n        raise ValueError(f'Input {input_index} of layer \"{layer_name}\" '\n\n    ValueError: Exception encountered when calling layer \"sequential\" (type Sequential).\n    \n    Input 0 of layer \"conv1d\" is incompatible with the layer: expected min_ndim=3, found ndim=2. Full shape received: (None, 13)\n    \n    Call arguments received:\n      • inputs=tf.Tensor(shape=(None, 13), dtype=float64)\n      • training=True\n      • mask=None\n"
          ]
        }
      ]
    },
    {
      "cell_type": "code",
      "source": [
        "from sklearn.model_selection import train_test_split\n",
        "X_train, X_test, Y_train, Y_test = train_test_split( finalDS[finalDS.columns[:-1]],  finalDS['Province'], test_size=0.2)"
      ],
      "metadata": {
        "id": "XcA4Dgt9bBwU"
      },
      "execution_count": null,
      "outputs": []
    },
    {
      "cell_type": "code",
      "source": [
        "#TRET MODEL\n",
        "#XGBoost\n",
        "import matplotlib.pyplot as plt\n",
        "import seaborn as sns\n",
        "%matplotlib inline\n",
        "\n",
        "\n",
        "sns.pairplot(finalDS)"
      ],
      "metadata": {
        "id": "EMjvWgnSbPTS"
      },
      "execution_count": null,
      "outputs": []
    },
    {
      "cell_type": "code",
      "source": [
        "from xgboost import XGBClassifier\n",
        "model = XGBClassifier(max_depth=50, min_child_weight=1,  n_estimators=200,n_jobs=-1 , verbose=2,learning_rate=0.16)\n",
        "model.fit(X_train, Y_train)\n",
        "y_pred = model.predict(X_test)"
      ],
      "metadata": {
        "id": "RAr3mOy2Z0yK"
      },
      "execution_count": null,
      "outputs": []
    },
    {
      "cell_type": "code",
      "source": [
        "from sklearn import metrics\n",
        "\n",
        "print(\"Accuracy:\",metrics.accuracy_score(Y_test, y_pred))"
      ],
      "metadata": {
        "colab": {
          "base_uri": "https://localhost:8080/"
        },
        "id": "nJIpzyL_a4dO",
        "outputId": "a3578bc8-0fcf-467a-b41a-a04261e2c7cf"
      },
      "execution_count": null,
      "outputs": [
        {
          "output_type": "stream",
          "name": "stdout",
          "text": [
            "Accuracy: 0.9285714285714286\n"
          ]
        }
      ]
    },
    {
      "cell_type": "code",
      "source": [
        "#CHETVORTI MODEL\n",
        "#Kombinacija od Dense i Konvulaciski\n",
        "\n",
        "model = Sequential()\n",
        "model.add(Conv1D(filters=128, kernel_size=1, padding='causal', activation='relu'))\n",
        "model.add(MaxPooling1D(pool_size=64))\n",
        "model.add(Dropout(0.2, input_shape=(64,)))\n",
        "model.add(Dense(8,kernel_initializer = 'uniform', activation='relu'))\n",
        "model.add(Dense(8,kernel_initializer = 'uniform', activation='relu'))\n",
        "model.add(Dense(2, kernel_initializer = 'uniform',activation='sigmoid'))"
      ],
      "metadata": {
        "id": "-H5uBwOaci4Y"
      },
      "execution_count": null,
      "outputs": []
    },
    {
      "cell_type": "code",
      "source": [
        "finalDS.head()"
      ],
      "metadata": {
        "colab": {
          "base_uri": "https://localhost:8080/",
          "height": 287
        },
        "id": "HFTiA1LPdr2m",
        "outputId": "103073e6-b206-4a0f-c647-6e0ffca37a90"
      },
      "execution_count": null,
      "outputs": [
        {
          "output_type": "execute_result",
          "data": {
            "text/html": [
              "\n",
              "  <div id=\"df-ccd8022e-b348-498c-b0f7-70f2b87aba00\">\n",
              "    <div class=\"colab-df-container\">\n",
              "      <div>\n",
              "<style scoped>\n",
              "    .dataframe tbody tr th:only-of-type {\n",
              "        vertical-align: middle;\n",
              "    }\n",
              "\n",
              "    .dataframe tbody tr th {\n",
              "        vertical-align: top;\n",
              "    }\n",
              "\n",
              "    .dataframe thead th {\n",
              "        text-align: right;\n",
              "    }\n",
              "</style>\n",
              "<table border=\"1\" class=\"dataframe\">\n",
              "  <thead>\n",
              "    <tr style=\"text-align: right;\">\n",
              "      <th></th>\n",
              "      <th>Region</th>\n",
              "      <th>Province</th>\n",
              "      <th>Health_exp_pct_GDP_2016</th>\n",
              "      <th>Health_exp_public_pct_2016</th>\n",
              "      <th>Health_exp_out_of_pocket_pct_2016</th>\n",
              "      <th>Health_exp_per_capita_USD_2016</th>\n",
              "      <th>per_capita_exp_PPP_2016</th>\n",
              "      <th>External_health_exp_pct_2016</th>\n",
              "      <th>Physicians_per_1000_2009-18</th>\n",
              "      <th>Nurse_midwife_per_1000_2009-18</th>\n",
              "      <th>Specialist_surgical_per_1000_2008-18</th>\n",
              "      <th>Birth_2009-18</th>\n",
              "      <th>Death_2008-16</th>\n",
              "    </tr>\n",
              "  </thead>\n",
              "  <tbody>\n",
              "    <tr>\n",
              "      <th>0</th>\n",
              "      <td>0</td>\n",
              "      <td>0</td>\n",
              "      <td>10.2</td>\n",
              "      <td>5.1</td>\n",
              "      <td>77.4</td>\n",
              "      <td>57.2</td>\n",
              "      <td>162.8</td>\n",
              "      <td>17.5</td>\n",
              "      <td>0.3</td>\n",
              "      <td>0.3</td>\n",
              "      <td>0.0</td>\n",
              "      <td>42.3</td>\n",
              "      <td>100.0</td>\n",
              "    </tr>\n",
              "    <tr>\n",
              "      <th>1</th>\n",
              "      <td>1</td>\n",
              "      <td>0</td>\n",
              "      <td>6.7</td>\n",
              "      <td>41.4</td>\n",
              "      <td>58.0</td>\n",
              "      <td>271.5</td>\n",
              "      <td>759.7</td>\n",
              "      <td>0.7</td>\n",
              "      <td>1.2</td>\n",
              "      <td>3.6</td>\n",
              "      <td>11.6</td>\n",
              "      <td>98.4</td>\n",
              "      <td>53.0</td>\n",
              "    </tr>\n",
              "    <tr>\n",
              "      <th>2</th>\n",
              "      <td>2</td>\n",
              "      <td>0</td>\n",
              "      <td>6.6</td>\n",
              "      <td>67.7</td>\n",
              "      <td>30.9</td>\n",
              "      <td>260.4</td>\n",
              "      <td>998.2</td>\n",
              "      <td>0.0</td>\n",
              "      <td>1.8</td>\n",
              "      <td>2.2</td>\n",
              "      <td>12.1</td>\n",
              "      <td>100.0</td>\n",
              "      <td>100.0</td>\n",
              "    </tr>\n",
              "    <tr>\n",
              "      <th>3</th>\n",
              "      <td>3</td>\n",
              "      <td>0</td>\n",
              "      <td>10.4</td>\n",
              "      <td>49.1</td>\n",
              "      <td>41.7</td>\n",
              "      <td>3834.7</td>\n",
              "      <td>4978.7</td>\n",
              "      <td>0.0</td>\n",
              "      <td>3.3</td>\n",
              "      <td>4.0</td>\n",
              "      <td>83.1</td>\n",
              "      <td>100.0</td>\n",
              "      <td>80.0</td>\n",
              "    </tr>\n",
              "    <tr>\n",
              "      <th>4</th>\n",
              "      <td>4</td>\n",
              "      <td>0</td>\n",
              "      <td>2.9</td>\n",
              "      <td>44.1</td>\n",
              "      <td>35.2</td>\n",
              "      <td>95.2</td>\n",
              "      <td>185.8</td>\n",
              "      <td>3.6</td>\n",
              "      <td>0.2</td>\n",
              "      <td>1.3</td>\n",
              "      <td>0.4</td>\n",
              "      <td>25.0</td>\n",
              "      <td>100.0</td>\n",
              "    </tr>\n",
              "  </tbody>\n",
              "</table>\n",
              "</div>\n",
              "      <button class=\"colab-df-convert\" onclick=\"convertToInteractive('df-ccd8022e-b348-498c-b0f7-70f2b87aba00')\"\n",
              "              title=\"Convert this dataframe to an interactive table.\"\n",
              "              style=\"display:none;\">\n",
              "        \n",
              "  <svg xmlns=\"http://www.w3.org/2000/svg\" height=\"24px\"viewBox=\"0 0 24 24\"\n",
              "       width=\"24px\">\n",
              "    <path d=\"M0 0h24v24H0V0z\" fill=\"none\"/>\n",
              "    <path d=\"M18.56 5.44l.94 2.06.94-2.06 2.06-.94-2.06-.94-.94-2.06-.94 2.06-2.06.94zm-11 1L8.5 8.5l.94-2.06 2.06-.94-2.06-.94L8.5 2.5l-.94 2.06-2.06.94zm10 10l.94 2.06.94-2.06 2.06-.94-2.06-.94-.94-2.06-.94 2.06-2.06.94z\"/><path d=\"M17.41 7.96l-1.37-1.37c-.4-.4-.92-.59-1.43-.59-.52 0-1.04.2-1.43.59L10.3 9.45l-7.72 7.72c-.78.78-.78 2.05 0 2.83L4 21.41c.39.39.9.59 1.41.59.51 0 1.02-.2 1.41-.59l7.78-7.78 2.81-2.81c.8-.78.8-2.07 0-2.86zM5.41 20L4 18.59l7.72-7.72 1.47 1.35L5.41 20z\"/>\n",
              "  </svg>\n",
              "      </button>\n",
              "      \n",
              "  <style>\n",
              "    .colab-df-container {\n",
              "      display:flex;\n",
              "      flex-wrap:wrap;\n",
              "      gap: 12px;\n",
              "    }\n",
              "\n",
              "    .colab-df-convert {\n",
              "      background-color: #E8F0FE;\n",
              "      border: none;\n",
              "      border-radius: 50%;\n",
              "      cursor: pointer;\n",
              "      display: none;\n",
              "      fill: #1967D2;\n",
              "      height: 32px;\n",
              "      padding: 0 0 0 0;\n",
              "      width: 32px;\n",
              "    }\n",
              "\n",
              "    .colab-df-convert:hover {\n",
              "      background-color: #E2EBFA;\n",
              "      box-shadow: 0px 1px 2px rgba(60, 64, 67, 0.3), 0px 1px 3px 1px rgba(60, 64, 67, 0.15);\n",
              "      fill: #174EA6;\n",
              "    }\n",
              "\n",
              "    [theme=dark] .colab-df-convert {\n",
              "      background-color: #3B4455;\n",
              "      fill: #D2E3FC;\n",
              "    }\n",
              "\n",
              "    [theme=dark] .colab-df-convert:hover {\n",
              "      background-color: #434B5C;\n",
              "      box-shadow: 0px 1px 3px 1px rgba(0, 0, 0, 0.15);\n",
              "      filter: drop-shadow(0px 1px 2px rgba(0, 0, 0, 0.3));\n",
              "      fill: #FFFFFF;\n",
              "    }\n",
              "  </style>\n",
              "\n",
              "      <script>\n",
              "        const buttonEl =\n",
              "          document.querySelector('#df-ccd8022e-b348-498c-b0f7-70f2b87aba00 button.colab-df-convert');\n",
              "        buttonEl.style.display =\n",
              "          google.colab.kernel.accessAllowed ? 'block' : 'none';\n",
              "\n",
              "        async function convertToInteractive(key) {\n",
              "          const element = document.querySelector('#df-ccd8022e-b348-498c-b0f7-70f2b87aba00');\n",
              "          const dataTable =\n",
              "            await google.colab.kernel.invokeFunction('convertToInteractive',\n",
              "                                                     [key], {});\n",
              "          if (!dataTable) return;\n",
              "\n",
              "          const docLinkHtml = 'Like what you see? Visit the ' +\n",
              "            '<a target=\"_blank\" href=https://colab.research.google.com/notebooks/data_table.ipynb>data table notebook</a>'\n",
              "            + ' to learn more about interactive tables.';\n",
              "          element.innerHTML = '';\n",
              "          dataTable['output_type'] = 'display_data';\n",
              "          await google.colab.output.renderOutput(dataTable, element);\n",
              "          const docLink = document.createElement('div');\n",
              "          docLink.innerHTML = docLinkHtml;\n",
              "          element.appendChild(docLink);\n",
              "        }\n",
              "      </script>\n",
              "    </div>\n",
              "  </div>\n",
              "  "
            ],
            "text/plain": [
              "   Region  Province  ...  Birth_2009-18  Death_2008-16\n",
              "0       0         0  ...           42.3          100.0\n",
              "1       1         0  ...           98.4           53.0\n",
              "2       2         0  ...          100.0          100.0\n",
              "3       3         0  ...          100.0           80.0\n",
              "4       4         0  ...           25.0          100.0\n",
              "\n",
              "[5 rows x 13 columns]"
            ]
          },
          "metadata": {},
          "execution_count": 237
        }
      ]
    },
    {
      "cell_type": "code",
      "source": [
        "y = pd.get_dummies(finalDS['Province']).values"
      ],
      "metadata": {
        "id": "xV7NDOEteG-V"
      },
      "execution_count": null,
      "outputs": []
    },
    {
      "cell_type": "code",
      "source": [
        "from sklearn.model_selection import train_test_split\n",
        "X_train, X_test, Y_train, Y_test = train_test_split(df.iloc[:,df.columns != 'Province'],y,test_size=.2)"
      ],
      "metadata": {
        "id": "cvC0Z3x0eOVM"
      },
      "execution_count": null,
      "outputs": []
    },
    {
      "cell_type": "code",
      "source": [
        "model.compile(loss='categorical_crossentropy', optimizer='adam', metrics=['accuracy'])"
      ],
      "metadata": {
        "id": "OJKae0fueYfN"
      },
      "execution_count": null,
      "outputs": []
    },
    {
      "cell_type": "code",
      "source": [
        "model.fit(X_train, Y_train, epochs=5, batch_size=16)"
      ],
      "metadata": {
        "colab": {
          "base_uri": "https://localhost:8080/",
          "height": 310
        },
        "id": "ZmLnPMWxedrD",
        "outputId": "8152c887-2d95-4790-e047-a3b787a627c6"
      },
      "execution_count": null,
      "outputs": [
        {
          "output_type": "error",
          "ename": "ValueError",
          "evalue": "ignored",
          "traceback": [
            "\u001b[0;31m---------------------------------------------------------------------------\u001b[0m",
            "\u001b[0;31mValueError\u001b[0m                                Traceback (most recent call last)",
            "\u001b[0;32m<ipython-input-248-a297666ad9e2>\u001b[0m in \u001b[0;36m<module>\u001b[0;34m()\u001b[0m\n\u001b[0;32m----> 1\u001b[0;31m \u001b[0mmodel\u001b[0m\u001b[0;34m.\u001b[0m\u001b[0mfit\u001b[0m\u001b[0;34m(\u001b[0m\u001b[0mX_train\u001b[0m\u001b[0;34m,\u001b[0m \u001b[0mY_train\u001b[0m\u001b[0;34m,\u001b[0m \u001b[0mepochs\u001b[0m\u001b[0;34m=\u001b[0m\u001b[0;36m5\u001b[0m\u001b[0;34m,\u001b[0m \u001b[0mbatch_size\u001b[0m\u001b[0;34m=\u001b[0m\u001b[0;36m16\u001b[0m\u001b[0;34m)\u001b[0m\u001b[0;34m\u001b[0m\u001b[0;34m\u001b[0m\u001b[0m\n\u001b[0m",
            "\u001b[0;32m/usr/local/lib/python3.7/dist-packages/keras/utils/traceback_utils.py\u001b[0m in \u001b[0;36merror_handler\u001b[0;34m(*args, **kwargs)\u001b[0m\n\u001b[1;32m     65\u001b[0m     \u001b[0;32mexcept\u001b[0m \u001b[0mException\u001b[0m \u001b[0;32mas\u001b[0m \u001b[0me\u001b[0m\u001b[0;34m:\u001b[0m  \u001b[0;31m# pylint: disable=broad-except\u001b[0m\u001b[0;34m\u001b[0m\u001b[0;34m\u001b[0m\u001b[0m\n\u001b[1;32m     66\u001b[0m       \u001b[0mfiltered_tb\u001b[0m \u001b[0;34m=\u001b[0m \u001b[0m_process_traceback_frames\u001b[0m\u001b[0;34m(\u001b[0m\u001b[0me\u001b[0m\u001b[0;34m.\u001b[0m\u001b[0m__traceback__\u001b[0m\u001b[0;34m)\u001b[0m\u001b[0;34m\u001b[0m\u001b[0;34m\u001b[0m\u001b[0m\n\u001b[0;32m---> 67\u001b[0;31m       \u001b[0;32mraise\u001b[0m \u001b[0me\u001b[0m\u001b[0;34m.\u001b[0m\u001b[0mwith_traceback\u001b[0m\u001b[0;34m(\u001b[0m\u001b[0mfiltered_tb\u001b[0m\u001b[0;34m)\u001b[0m \u001b[0;32mfrom\u001b[0m \u001b[0;32mNone\u001b[0m\u001b[0;34m\u001b[0m\u001b[0;34m\u001b[0m\u001b[0m\n\u001b[0m\u001b[1;32m     68\u001b[0m     \u001b[0;32mfinally\u001b[0m\u001b[0;34m:\u001b[0m\u001b[0;34m\u001b[0m\u001b[0;34m\u001b[0m\u001b[0m\n\u001b[1;32m     69\u001b[0m       \u001b[0;32mdel\u001b[0m \u001b[0mfiltered_tb\u001b[0m\u001b[0;34m\u001b[0m\u001b[0;34m\u001b[0m\u001b[0m\n",
            "\u001b[0;32m/usr/local/lib/python3.7/dist-packages/tensorflow/python/framework/constant_op.py\u001b[0m in \u001b[0;36mconvert_to_eager_tensor\u001b[0;34m(value, ctx, dtype)\u001b[0m\n\u001b[1;32m    100\u001b[0m       \u001b[0mdtype\u001b[0m \u001b[0;34m=\u001b[0m \u001b[0mdtypes\u001b[0m\u001b[0;34m.\u001b[0m\u001b[0mas_dtype\u001b[0m\u001b[0;34m(\u001b[0m\u001b[0mdtype\u001b[0m\u001b[0;34m)\u001b[0m\u001b[0;34m.\u001b[0m\u001b[0mas_datatype_enum\u001b[0m\u001b[0;34m\u001b[0m\u001b[0;34m\u001b[0m\u001b[0m\n\u001b[1;32m    101\u001b[0m   \u001b[0mctx\u001b[0m\u001b[0;34m.\u001b[0m\u001b[0mensure_initialized\u001b[0m\u001b[0;34m(\u001b[0m\u001b[0;34m)\u001b[0m\u001b[0;34m\u001b[0m\u001b[0;34m\u001b[0m\u001b[0m\n\u001b[0;32m--> 102\u001b[0;31m   \u001b[0;32mreturn\u001b[0m \u001b[0mops\u001b[0m\u001b[0;34m.\u001b[0m\u001b[0mEagerTensor\u001b[0m\u001b[0;34m(\u001b[0m\u001b[0mvalue\u001b[0m\u001b[0;34m,\u001b[0m \u001b[0mctx\u001b[0m\u001b[0;34m.\u001b[0m\u001b[0mdevice_name\u001b[0m\u001b[0;34m,\u001b[0m \u001b[0mdtype\u001b[0m\u001b[0;34m)\u001b[0m\u001b[0;34m\u001b[0m\u001b[0;34m\u001b[0m\u001b[0m\n\u001b[0m\u001b[1;32m    103\u001b[0m \u001b[0;34m\u001b[0m\u001b[0m\n\u001b[1;32m    104\u001b[0m \u001b[0;34m\u001b[0m\u001b[0m\n",
            "\u001b[0;31mValueError\u001b[0m: Failed to convert a NumPy array to a Tensor (Unsupported object type float)."
          ]
        }
      ]
    }
  ]
}